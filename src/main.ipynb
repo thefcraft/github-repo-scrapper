{
 "cells": [
  {
   "cell_type": "code",
   "execution_count": 234,
   "metadata": {},
   "outputs": [],
   "source": [
    "import requests\n",
    "from bs4 import BeautifulSoup, Tag\n",
    "from dataclasses import dataclass\n",
    "from tqdm import tqdm\n",
    "import pandas as pd\n",
    "import os"
   ]
  },
  {
   "cell_type": "code",
   "execution_count": 18,
   "metadata": {},
   "outputs": [],
   "source": [
    "f = lambda x: (temp := x * 2) + 1 if x > 5 else (temp := x + 3) * 2"
   ]
  },
  {
   "cell_type": "code",
   "execution_count": 348,
   "metadata": {},
   "outputs": [],
   "source": [
    "def get_headers(referer: str = \"https://github.com/topics\", xml: bool = True):\n",
    "    # return {\n",
    "    #     \"Accept\": \"text/html,application/xhtml+xml,application/xml;q=0.9,image/avif,image/webp,image/apng,*/*;q=0.8\",\n",
    "    #     \"Accept-Encoding\": \"gzip, deflate, br, zstd\",\n",
    "    #     \"Accept-Language\":\"en-US,en;q=0.9\",\n",
    "    #     \"Priority\": \"u=1, i\",\n",
    "    #     \"Referer\": referer,\n",
    "    #     \"Sec-CH-UA\": '\"Not A(Brand\";v=\"8\", \"Chromium\";v=\"132\", \"Brave\";v=\"132\"',\n",
    "    #     \"Sec-CH-UA-Mobile\": \"?0\",\n",
    "    #     \"Sec-CH-UA-Platform\": '\"Windows\"',\n",
    "    #     \"Sec-Fetch-Dest\": \"empty\",\n",
    "    #     \"Sec-Fetch-Mode\": \"cors\",\n",
    "    #     \"Sec-Fetch-Site\": \"same-origin\",\n",
    "    #     \"Sec-GPC\": \"1\",\n",
    "    #     \"User-Agent\": \"Mozilla/5.0 (Windows NT 10.0; Win64; x64) AppleWebKit/537.36 (KHTML, like Gecko) Chrome/132.0.0.0 Safari/537.36\",\n",
    "    #     \"X-Requested-With\": \"XMLHttpRequest\" if xml else None\n",
    "    # }\n",
    "    return {\n",
    "        \"accept\": \"text/html\",\n",
    "        \"accept-encoding\": \"gzip, deflate, br, zstd\",\n",
    "        \"accept-language\": \"en-US,en;q=0.6\",\n",
    "        \"priority\": \"u=1, i\",\n",
    "        \"referer\": referer,\n",
    "        \"sec-ch-ua\": '\"Not A(Brand\";v=\"8\", \"Chromium\";v=\"132\", \"Brave\";v=\"132\"',\n",
    "        \"sec-ch-ua-mobile\": \"?0\",\n",
    "        \"sec-ch-ua-platform\": '\"Windows\"',\n",
    "        \"sec-fetch-dest\": \"empty\",\n",
    "        \"sec-fetch-mode\": \"cors\",\n",
    "        \"sec-fetch-site\": \"same-origin\",\n",
    "        \"sec-gpc\": \"1\",\n",
    "        \"user-agent\": \"Mozilla/5.0 (Windows NT 10.0; Win64; x64) AppleWebKit/537.36 (KHTML, like Gecko) Chrome/132.0.0.0 Safari/537.36\",\n",
    "        \"x-requested-with\": \"XMLHttpRequest\" if xml else None\n",
    "    }\n",
    "\n",
    "cookies = None\n",
    "def get(url: str=\"https://github.com\", xml: bool = False) -> requests.Response:\n",
    "    global cookies\n",
    "    r = requests.get(url, headers=get_headers(referer=url, xml=xml), cookies=cookies)\n",
    "    r.raise_for_status()\n",
    "    if cookies is None: cookies = r.cookies\n",
    "    return r"
   ]
  },
  {
   "cell_type": "code",
   "execution_count": 16,
   "metadata": {},
   "outputs": [],
   "source": [
    "r = get(\"https://github.com/topics?page=1\", xml=True)\n",
    "soup = BeautifulSoup(r.content)"
   ]
  },
  {
   "cell_type": "code",
   "execution_count": 145,
   "metadata": {},
   "outputs": [],
   "source": [
    "from typing import Callable, TypeVar, List\n",
    "\n",
    "T = TypeVar('T')  # Generic type for elements in the list\n",
    "U = TypeVar('U')  # Generic type for the result of the map function\n",
    "\n",
    "class List2(list[T]):\n",
    "    def map(self, func: Callable[[T], U]) -> 'List2[U]':\n",
    "        return List2(map(func, self))  # Apply func to each element of the list\n",
    "\n",
    "    def filter(self, func: Callable[[T], bool]) -> 'List2[T]':\n",
    "        return List2(filter(func, self))  # Keep only elements where func returns True\n",
    "\n",
    "    @classmethod\n",
    "    def from_list(cls, lst: List[T]) -> 'List2[T]':\n",
    "        return cls(lst)  # Create a List2 instance from a regular list"
   ]
  },
  {
   "cell_type": "code",
   "execution_count": 87,
   "metadata": {},
   "outputs": [
    {
     "data": {
      "text/plain": [
       "[Topic(href='/topics/3d', title='3D', body='3D refers to the use of three-dimensional graphics, modeling, and animation in various industries.')]"
      ]
     },
     "execution_count": 87,
     "metadata": {},
     "output_type": "execute_result"
    }
   ],
   "source": [
    "@dataclass\n",
    "class Topic:\n",
    "    href: str\n",
    "    title: str\n",
    "    body: str\n",
    "    def to_json(self) -> dict:\n",
    "        return {\n",
    "            'href': self.href,\n",
    "            'title': self.title,\n",
    "            'body': self.body\n",
    "        }\n",
    "    \n",
    "def get_topics(soup: BeautifulSoup) -> List2[Topic]:\n",
    "    items: List2[Tag] = List2.from_list(\n",
    "        soup\n",
    "        .find('html', recursive=False)\n",
    "        .find('body', recursive=False)\n",
    "        .find('div', recursive=False)\n",
    "        .find_all(recursive=False)\n",
    "    )\n",
    "    \n",
    "    def get_from_item(item: Tag) -> Topic:\n",
    "        item: List2[Tag] = List2.from_list(\n",
    "            item.find_all('a', recursive=True)\n",
    "        )\n",
    "        return item.filter(lambda y: (\n",
    "            y.find('p', recursive=False) is not None\n",
    "        )).map(lambda y: Topic(\n",
    "            href= y.get('href'),\n",
    "            title= y.find_all('p', recursive=False)[0].text,\n",
    "            body= y.find_all('p', recursive=False)[1].text.strip()\n",
    "        ))[0]\n",
    "    \n",
    "    return items.map(get_from_item)\n",
    "\n",
    "get_topics(soup)[:1]"
   ]
  },
  {
   "cell_type": "code",
   "execution_count": null,
   "metadata": {},
   "outputs": [],
   "source": [
    "topics = []\n",
    "\n",
    "def featch_topic(page: int = 1):\n",
    "    global topics\n",
    "    idx = page - 1\n",
    "    assert len(topics) >= idx, \"Something went wrong\"\n",
    "    if len(topics) == idx:\n",
    "        r = get(f\"https://github.com/topics?page={page}\", xml=True)\n",
    "        soup = BeautifulSoup(r.content)\n",
    "        topics.append(get_topics(soup))\n",
    "    return topics[idx]"
   ]
  },
  {
   "cell_type": "code",
   "execution_count": 111,
   "metadata": {},
   "outputs": [
    {
     "name": "stderr",
     "output_type": "stream",
     "text": [
      "100%|██████████| 9/9 [00:00<?, ?it/s]\n"
     ]
    },
    {
     "data": {
      "text/plain": [
       "[Topic(href='/topics/3d', title='3D', body='3D refers to the use of three-dimensional graphics, modeling, and animation in various industries.'),\n",
       " Topic(href='/topics/ajax', title='Ajax', body='Ajax is a technique for creating interactive web applications.'),\n",
       " Topic(href='/topics/algorithm', title='Algorithm', body='Algorithms are self-contained sequences that carry out a variety of tasks.'),\n",
       " Topic(href='/topics/amphp', title='Amp', body='Amp is a non-blocking concurrency library for PHP.'),\n",
       " Topic(href='/topics/android', title='Android', body='Android is an operating system built by Google designed for mobile devices.'),\n",
       " Topic(href='/topics/angular', title='Angular', body='Angular is an open source web application platform.'),\n",
       " Topic(href='/topics/ansible', title='Ansible', body='Ansible is a simple and powerful automation engine.'),\n",
       " Topic(href='/topics/api', title='API', body='An API (Application Programming Interface) is a collection of protocols and subroutines for building software.'),\n",
       " Topic(href='/topics/arduino', title='Arduino', body='Arduino is an open source platform for building electronic devices.'),\n",
       " Topic(href='/topics/aspnet', title='ASP.NET', body='ASP.NET is a web framework for building modern web apps and services.'),\n",
       " Topic(href='/topics/awesome', title='Awesome Lists', body='An awesome list is a list of awesome things curated by the community.'),\n",
       " Topic(href='/topics/aws', title='Amazon Web Services', body='Amazon Web Services provides on-demand cloud computing platforms on a subscription basis.'),\n",
       " Topic(href='/topics/azure', title='Azure', body='Azure is a cloud computing service created by Microsoft.'),\n",
       " Topic(href='/topics/babel', title='Babel', body='Babel is a compiler for writing next generation JavaScript, today.'),\n",
       " Topic(href='/topics/bash', title='Bash', body='Bash is a shell and command language interpreter for the GNU operating system.'),\n",
       " Topic(href='/topics/bitcoin', title='Bitcoin', body='Bitcoin is a cryptocurrency developed by Satoshi Nakamoto.'),\n",
       " Topic(href='/topics/bootstrap', title='Bootstrap', body='Bootstrap is an HTML, CSS, and JavaScript framework.'),\n",
       " Topic(href='/topics/bot', title='Bot', body='A bot is an application that runs automated tasks over the Internet.'),\n",
       " Topic(href='/topics/c', title='C', body='C is a general purpose programming language that first appeared in 1972.'),\n",
       " Topic(href='/topics/chrome', title='Chrome', body='Chrome is a web browser from the tech company Google.'),\n",
       " Topic(href='/topics/chrome-extension', title='Chrome extension', body='Chrome extensions enable users to customize the Chrome browsing experience.'),\n",
       " Topic(href='/topics/cli', title='Command-line interface', body='A CLI, or command-line interface, is a console that helps users issue commands to a program.'),\n",
       " Topic(href='/topics/clojure', title='Clojure', body='Clojure is a dynamic, general-purpose programming language.'),\n",
       " Topic(href='/topics/code-quality', title='Code quality', body='Automate your code review with style, quality, security, and testâ€‘coverage checks when you need them.'),\n",
       " Topic(href='/topics/code-review', title='Code review', body='Ensure your code meets quality standards and ship with confidence.'),\n",
       " Topic(href='/topics/compiler', title='Compiler', body='Compilers are software that translate higher-level programming languages to lower-level languages (e.g. machine code).'),\n",
       " Topic(href='/topics/continuous-integration', title='Continuous integration', body='Automatically build and test your code as you push it upstream, preventing bugs from being deployed to production.'),\n",
       " Topic(href='/topics/cpp', title='C++', body='C++ is a general purpose and object-oriented programming language.'),\n",
       " Topic(href='/topics/cryptocurrency', title='Cryptocurrency', body='A cryptocurrency is a digital currency that uses cryptography.'),\n",
       " Topic(href='/topics/crystal', title='Crystal', body='Crystal is a self-hosted, general purpose programming language.'),\n",
       " Topic(href='/topics/csharp', title='C#', body='C# (\"C sharp\") is an object-oriented and type-safe programming language.'),\n",
       " Topic(href='/topics/css', title='CSS', body='Cascading Style Sheets (CSS) is a language used most often to style and improve upon the appearance of views.'),\n",
       " Topic(href='/topics/data-structures', title='Data structures', body='Data structures are a way of organizing and storing data.'),\n",
       " Topic(href='/topics/data-visualization', title='Data visualization', body='Data visualization is the graphic representation of data and trends.'),\n",
       " Topic(href='/topics/database', title='Database', body='A database is a structured set of data held in a computer, usually a server.'),\n",
       " Topic(href='/topics/deep-learning', title='Deep learning', body='Deep Learning is an artificial neural network composed of many layers.'),\n",
       " Topic(href='/topics/dependency-management', title='Dependency management', body='Secure and manage your third-party dependencies.'),\n",
       " Topic(href='/topics/deployment', title='Deployment', body='Streamline your code deployment so you can focus on your product.'),\n",
       " Topic(href='/topics/django', title='Django', body='Django is a web application framework for Python.'),\n",
       " Topic(href='/topics/docker', title='Docker', body='Docker is a platform built for developers to build and run applications.'),\n",
       " Topic(href='/topics/documentation', title='Documentation', body='Documentation is a set of information that describes a product to its users.'),\n",
       " Topic(href='/topics/dotnet', title='.NET', body='.NET is a free, cross-platform, open source developer platform.'),\n",
       " Topic(href='/topics/electron', title='Electron', body='Electron is a framework for building cross-platform desktop applications with web technology.'),\n",
       " Topic(href='/topics/elixir', title='Elixir', body='Elixir is a dynamic, functional language designed for building scalable and maintainable applications.'),\n",
       " Topic(href='/topics/emacs', title='Emacs', body='Emacs is an extensible, customizable, free text editor and computing environment.'),\n",
       " Topic(href='/topics/ember', title='Ember', body='Ember is a framework for creating web applications.'),\n",
       " Topic(href='/topics/emoji', title='Emoji', body='Emojis are graphic symbols that represent an emotion, object, or concept.'),\n",
       " Topic(href='/topics/emulator', title='Emulator', body='An emulator is any hardware or software that allows one computer to behave like another.'),\n",
       " Topic(href='/topics/eslint', title='ESLint', body='The pluggable linting utility for JavaScript and JSX.'),\n",
       " Topic(href='/topics/ethereum', title='Ethereum', body='Ethereum is a distributed public blockchain network.'),\n",
       " Topic(href='/topics/express', title='Express', body='Express is a minimal Node.js framework for web and mobile applications.'),\n",
       " Topic(href='/topics/firebase', title='Firebase', body='Firebase is a mobile app development platform that provides data analysis and database web services for developers.'),\n",
       " Topic(href='/topics/firefox', title='Firefox', body='Firefox is an open source web browser from Mozilla.'),\n",
       " Topic(href='/topics/flask', title='Flask', body='Flask is a web framework for Python based on the Werkzeug toolkit.'),\n",
       " Topic(href='/topics/font', title='Font', body='A font is a particular style of typeface for text.'),\n",
       " Topic(href='/topics/framework', title='Framework', body='A framework is a reusable set of libraries or classes in software.'),\n",
       " Topic(href='/topics/frontend', title='Front end', body='Front end is the programming and layout that people see and interact with.'),\n",
       " Topic(href='/topics/game-engine', title='Game engine', body='A game engine is a software framework used to develop and create video games.'),\n",
       " Topic(href='/topics/git', title='Git', body='Git is the most widely used version control system.'),\n",
       " Topic(href='/topics/github-api', title='GitHub API', body='The GitHub API allows you to build applications that integrate with GitHub.'),\n",
       " Topic(href='/topics/go', title='Go', body='Go is a programming language built to resemble a simplified version of the C programming language.'),\n",
       " Topic(href='/topics/google', title='Google', body='Google LLC is an American multinational technology company that specializes in Internet-related services and products.'),\n",
       " Topic(href='/topics/gradle', title='Gradle', body='Gradle is an open-source build tool that helps teams build, automate and deliver better software, faster.'),\n",
       " Topic(href='/topics/graphql', title='GraphQL', body='GraphQL is a query language for APIs and a runtime for fulfilling those queries with your existing data.'),\n",
       " Topic(href='/topics/gulp', title='Gulp', body='Gulp is a toolkit for automating and streamlining web development.'),\n",
       " Topic(href='/topics/hacktoberfest', title='Hacktoberfest', body='Hacktoberfest is a month-long celebration of open source projects, their maintainers, and the entire community of contributors.'),\n",
       " Topic(href='/topics/haskell', title='Haskell', body='Haskell is a functional programming language with non-strict semantics, and strong static typing.'),\n",
       " Topic(href='/topics/homebrew', title='Homebrew', body='Homebrew is a package manager for macOS.'),\n",
       " Topic(href='/topics/homebridge', title='Homebridge', body='Homebridge is a utility for tying smart home devices together into Apple’s HomeKit framework, controlled by Siri.'),\n",
       " Topic(href='/topics/html', title='HTML', body='HTML is the fundamental markup language for webpages.'),\n",
       " Topic(href='/topics/http', title='HTTP', body='HTTP (Hypertext Transfer Protocol) is the standard for communication across the web.'),\n",
       " Topic(href='/topics/icon-font', title='Icon font', body='Icon fonts\\xa0contain glyphs and symbols in place of textual letters.'),\n",
       " Topic(href='/topics/ios', title='iOS', body=\"iOS is the operating system for Apple's mobile products.\"),\n",
       " Topic(href='/topics/ipfs', title='IPFS', body='IPFS is a peer-to-peer protocol for content-addressed sharing of data via a distributed file system.'),\n",
       " Topic(href='/topics/java', title='Java', body='Java is an object-oriented programming language used mainly for web, desktop, embedded devices and mobile applications.'),\n",
       " Topic(href='/topics/javascript', title='JavaScript', body='JavaScript (JS) is a lightweight interpreted programming language with first-class functions.'),\n",
       " Topic(href='/topics/jekyll', title='Jekyll', body='Jekyll is a simple, blog-aware static site generator.'),\n",
       " Topic(href='/topics/jquery', title='jQuery', body='jQuery is a lightweight library that simplifies programming with JavaScript.'),\n",
       " Topic(href='/topics/json', title='JSON', body='JSON (JavaScript Object Notation) allows for easy interchange of data, often between a program and a database.'),\n",
       " Topic(href='/topics/julia', title='The Julia Language', body='Julia is a high-level, high-performance dynamic programming language for numerical computing.'),\n",
       " Topic(href='/topics/jupyter-notebook', title='Jupyter Notebook', body='Jupyter Notebooks are documents that contain live code, visualizations, and narrative text.'),\n",
       " Topic(href='/topics/koa', title='Koa', body='Koa is an expressive middleware framework for Node.js servers that uses ES2017 async functions.'),\n",
       " Topic(href='/topics/kotlin', title='Kotlin', body='Kotlin is a statically typed programming language for multiplatform applications.'),\n",
       " Topic(href='/topics/kubernetes', title='Kubernetes', body='Kubernetes is an open source system for automating deployment, scaling, and management of containerized applications.'),\n",
       " Topic(href='/topics/laravel', title='Laravel', body='The PHP Framework for Web Artisans.'),\n",
       " Topic(href='/topics/latex', title='LaTeX', body='LaTeX is a document preparation system.'),\n",
       " Topic(href='/topics/library', title='Library', body='A library is a collection of resources, often created to make programming a task simpler.'),\n",
       " Topic(href='/topics/linux', title='Linux', body='Linux is an open source kernel.'),\n",
       " Topic(href='/topics/localization', title='Localization (l10n)', body='Translation of a software interface and messages to another language plus to work with local cultures.'),\n",
       " Topic(href='/topics/lua', title='Lua', body='Lua is a lightweight, embeddable scripting language.'),\n",
       " Topic(href='/topics/machine-learning', title='Machine learning', body='Machine learning is a way of modeling and interpreting data that allows a piece of software to respond intelligently.'),\n",
       " Topic(href='/topics/macos', title='macOS', body=\"macOS is Apple's operating system.\"),\n",
       " Topic(href='/topics/markdown', title='Markdown', body='Markdown is a lightweight markup language.'),\n",
       " Topic(href='/topics/mastodon', title='Mastodon', body='Mastodon is a free, decentralized, open source microblogging network.'),\n",
       " Topic(href='/topics/material-design', title='Material Design', body='Material Design is a unified system of theory and tools for creating digital experiences developed by Google.'),\n",
       " Topic(href='/topics/matlab', title='MATLAB', body='MATLAB is a programming platform for numerical computation and visualization.'),\n",
       " Topic(href='/topics/maven', title='Maven', body='Maven is a build automation tool used primarily for Java projects.'),\n",
       " Topic(href='/topics/minecraft', title='Minecraft', body='Minecraft is a sandbox video game.'),\n",
       " Topic(href='/topics/mobile', title='Mobile', body='Mobile apps, mobile OS, mobile databases, & mobile testing frameworks.'),\n",
       " Topic(href='/topics/monero', title='Monero', body='Monero is a private, fungible, open source, decentralized cryptocurrency.'),\n",
       " Topic(href='/topics/mongodb', title='MongoDB', body='MongoDB is an open source NoSQL document-oriented database.'),\n",
       " Topic(href='/topics/mongoose', title='Mongoose', body='Mongoose is a MongoDB object modeling tool designed to work in an asynchronous environment.'),\n",
       " Topic(href='/topics/monitoring', title='Monitoring', body='Monitor the impact of your code changes. Measure performance, track errors, and analyze your application.'),\n",
       " Topic(href='/topics/mvvmcross', title='MvvmCross', body='The .NET MVVM framework for cross-platform solutions, including Xamarin.iOS, Xamarin.Android, Windows, and Mac.'),\n",
       " Topic(href='/topics/mysql', title='MySQL', body='MySQL is an open source relational database management system.'),\n",
       " Topic(href='/topics/nativescript', title='NativeScript', body='NativeScript is a JavaScript-native mobile framework.'),\n",
       " Topic(href='/topics/nim', title='Nim', body='Nim is a statically typed, compiled, garbage-collected systems programming language.'),\n",
       " Topic(href='/topics/nlp', title='Natural language processing', body='Natural language processing (NLP) is the study of how computers and humans interact.'),\n",
       " Topic(href='/topics/nodejs', title='Node.js', body='Node.js is a tool for executing JavaScript in a variety of environments.'),\n",
       " Topic(href='/topics/nosql', title='NoSQL', body='A NoSQL database refers to a database whose storage format is modeled differently from relational databases.'),\n",
       " Topic(href='/topics/npm', title='npm', body='npm is a package manager for JavaScript included with Node.js.'),\n",
       " Topic(href='/topics/objective-c', title='Objective-C', body='Objective-C is general purpose, object-oriented programming language used for macOS and iOS operating systems.'),\n",
       " Topic(href='/topics/opengl', title='OpenGL', body='OpenGL is a software interface that allows a programmer to communicate with graphics hardware.'),\n",
       " Topic(href='/topics/operating-system', title='Operating system', body=\"An operating system is a program that manages a computer's programs and applications.\"),\n",
       " Topic(href='/topics/p2p', title='P2P', body='Peer-to-Peer applications are decentralized or distributed.'),\n",
       " Topic(href='/topics/package-manager', title='Package manager', body='A package manager is a set of tools that automates and manages computer software.'),\n",
       " Topic(href='/topics/parsing', title='Parsing', body='Parsing is the process of analyzing a string of symbols conforming to the rules of a formal grammar.'),\n",
       " Topic(href='/topics/perl', title='Perl', body='Perl is a highly capable and feature-rich programming language.'),\n",
       " Topic(href='/topics/phaser', title='Phaser', body='Phaser is a fun, free, and fast 2D game framework for making HTML5 games for desktop and mobile web browsers.'),\n",
       " Topic(href='/topics/php', title='PHP', body='PHP is a popular general-purpose scripting language that works particularly well for server-side web development.'),\n",
       " Topic(href='/topics/pico-8', title='PICO-8', body='PICO-8 is a fantasy console for making, sharing and playing tiny games and other computer programs in Lua.'),\n",
       " Topic(href='/topics/pixel-art', title='Pixel Art', body='Pixel art is a form of digital art where images are created and edited at the pixel level.'),\n",
       " Topic(href='/topics/postgresql', title='PostgreSQL', body='PostgreSQL is an open source database system.'),\n",
       " Topic(href='/topics/project-management', title='Project management', body=\"Project management is about building scope and executing on the project's goals.\"),\n",
       " Topic(href='/topics/publishing', title='Publishing', body='Publishing is the dissemination of making information available to the general public through various mediums.'),\n",
       " Topic(href='/topics/pwa', title='PWA', body='Progressive Web Apps are traditional web sites that are enhanced with native like features.'),\n",
       " Topic(href='/topics/python', title='Python', body='Python is a dynamically typed programming language.'),\n",
       " Topic(href='/topics/qt', title='Qt', body='Qt, pronounced \"cute\", is a cross-platform application development framework.'),\n",
       " Topic(href='/topics/r', title='R', body='R is a free programming language and software environment for statistical computing and graphics.'),\n",
       " Topic(href='/topics/rails', title='Rails', body='Ruby on Rails (Rails) is a web application framework written in Ruby.'),\n",
       " Topic(href='/topics/raspberry-pi', title='Raspberry Pi', body='The Raspberry Pi is a popular single-board computer.'),\n",
       " Topic(href='/topics/ratchet', title='Ratchet', body='Ratchet is a set of libraries to handle WebSockets asynchronously in PHP.'),\n",
       " Topic(href='/topics/react', title='React', body='React is an open source JavaScript library used for designing user interfaces.'),\n",
       " Topic(href='/topics/react-native', title='React Native', body='React Native is a JavaScript mobile framework developed by Facebook.'),\n",
       " Topic(href='/topics/reactiveui', title='ReactiveUI', body='ReactiveUI is a composable, cross-platform model-view-viewmodel framework for all .NET platforms.'),\n",
       " Topic(href='/topics/redux', title='Redux', body='Redux is a predictable state container for JavaScript apps.'),\n",
       " Topic(href='/topics/rest-api', title='REST API', body='A representational state transfer (REST) API is a way to provide compatibility between computer systems on the internet.'),\n",
       " Topic(href='/topics/ruby', title='Ruby', body='Ruby is a scripting language designed for simplified object-oriented programming.'),\n",
       " Topic(href='/topics/rust', title='Rust', body='Rust is a systems programming language created by Mozilla.'),\n",
       " Topic(href='/topics/sass', title='Sass', body='Sass is a stable extension to classic CSS.'),\n",
       " Topic(href='/topics/scala', title='Scala', body='Scala is an object-oriented programming language.'),\n",
       " Topic(href='/topics/scikit-learn', title='scikit-learn', body='scikit-learn is a Python module for machine learning.'),\n",
       " Topic(href='/topics/sdn', title='Software-defined networking', body='Software-defined networking (SDN) is an architecture for programmable, centrally managed networks.'),\n",
       " Topic(href='/topics/security', title='Security', body='Cybersecurity is the protection of computer hardware, software, and data from theft, damage, and malicious intent.'),\n",
       " Topic(href='/topics/server', title='Server', body='A server is a program made to process requests and deliver data to clients.'),\n",
       " Topic(href='/topics/serverless', title='Serverless', body='Serverless architecture refers to apps that depend on third-party services or custom code.'),\n",
       " Topic(href='/topics/shell', title='Shell', body='A shell is a command-line tool, designed to be run by the Unix shell.'),\n",
       " Topic(href='/topics/sketch', title='Sketch', body=\"Sketch is a vector graphics editor for Apple's macOS, used primarily for user interface and icon design.\"),\n",
       " Topic(href='/topics/spacevim', title='SpaceVim', body='SpaceVim is a community-driven distribution of the vim editor that allows managing your plugins in layers.'),\n",
       " Topic(href='/topics/spring-boot', title='Spring Boot', body='Spring Boot is a coding and configuration model for Java applications.'),\n",
       " Topic(href='/topics/sql', title='SQL', body='SQL is a standard language for storing, retrieving and manipulating data in databases.'),\n",
       " Topic(href='/topics/storybook', title='Storybook', body='Storybook is a UI development environment for your UI components.'),\n",
       " Topic(href='/topics/support', title='Support', body='Get your team and customers the help they need.'),\n",
       " Topic(href='/topics/swift', title='Swift', body='Swift is a modern programming language focused on safety, performance, and expressivity.'),\n",
       " Topic(href='/topics/symfony', title='Symfony', body='Symfony is a set of reusable PHP components and a web framework.'),\n",
       " Topic(href='/topics/telegram', title='Telegram', body='Telegram is a non-profit, cloud-based instant messaging service.'),\n",
       " Topic(href='/topics/tensorflow', title='Tensorflow', body='TensorFlow is an open source software library for numerical computation.'),\n",
       " Topic(href='/topics/terminal', title='Terminal', body='The terminal is an interface in which you can type and execute text-based commands.'),\n",
       " Topic(href='/topics/terraform', title='Terraform', body='An infrastructure-as-code tool for building, changing, and versioning infrastructure safely and efficiently.'),\n",
       " Topic(href='/topics/testing', title='Testing', body='The act of examining behavior of the software under test to eliminate bugs and ship with more confidence.'),\n",
       " Topic(href='/topics/twitter', title='Twitter', body='Twitter is an online news and social networking service where users post and interact with messages, known as “Tweets”.'),\n",
       " Topic(href='/topics/typescript', title='TypeScript', body='TypeScript is a typed superset of JavaScript that compiles to plain JavaScript.'),\n",
       " Topic(href='/topics/ubuntu', title='Ubuntu', body='Ubuntu is a Linux-based operating system.'),\n",
       " Topic(href='/topics/unity', title='Unity', body='Unity is a game engine used to create 2D/3D video games, and simulations for computers, consoles, and mobile devices.'),\n",
       " Topic(href='/topics/unreal-engine', title='Unreal Engine', body='Unreal Engine is used to create awesome games, and experiences for PC, mobile, console, VR, and AR.')]"
      ]
     },
     "execution_count": 111,
     "metadata": {},
     "output_type": "execute_result"
    }
   ],
   "source": [
    "for i in tqdm(range(1, 10)):\n",
    "    featch_topic(i)\n",
    "    \n",
    "filtered_topics: List2[Topic] = List2.from_list([j for i in topics for j in i])\n",
    "filtered_topics"
   ]
  },
  {
   "cell_type": "code",
   "execution_count": null,
   "metadata": {},
   "outputs": [],
   "source": [
    "df_topics = pd.DataFrame(filtered_topics.map(lambda x: x.to_json()))\n",
    "df_topics.to_json('topics.jsonl', orient='records', lines=True)"
   ]
  },
  {
   "cell_type": "code",
   "execution_count": 120,
   "metadata": {},
   "outputs": [
    {
     "data": {
      "text/html": [
       "<div>\n",
       "<style scoped>\n",
       "    .dataframe tbody tr th:only-of-type {\n",
       "        vertical-align: middle;\n",
       "    }\n",
       "\n",
       "    .dataframe tbody tr th {\n",
       "        vertical-align: top;\n",
       "    }\n",
       "\n",
       "    .dataframe thead th {\n",
       "        text-align: right;\n",
       "    }\n",
       "</style>\n",
       "<table border=\"1\" class=\"dataframe\">\n",
       "  <thead>\n",
       "    <tr style=\"text-align: right;\">\n",
       "      <th></th>\n",
       "      <th>href</th>\n",
       "      <th>title</th>\n",
       "      <th>body</th>\n",
       "    </tr>\n",
       "  </thead>\n",
       "  <tbody>\n",
       "    <tr>\n",
       "      <th>0</th>\n",
       "      <td>/topics/3d</td>\n",
       "      <td>3D</td>\n",
       "      <td>3D refers to the use of three-dimensional grap...</td>\n",
       "    </tr>\n",
       "    <tr>\n",
       "      <th>1</th>\n",
       "      <td>/topics/ajax</td>\n",
       "      <td>Ajax</td>\n",
       "      <td>Ajax is a technique for creating interactive w...</td>\n",
       "    </tr>\n",
       "    <tr>\n",
       "      <th>2</th>\n",
       "      <td>/topics/algorithm</td>\n",
       "      <td>Algorithm</td>\n",
       "      <td>Algorithms are self-contained sequences that c...</td>\n",
       "    </tr>\n",
       "    <tr>\n",
       "      <th>3</th>\n",
       "      <td>/topics/amphp</td>\n",
       "      <td>Amp</td>\n",
       "      <td>Amp is a non-blocking concurrency library for ...</td>\n",
       "    </tr>\n",
       "    <tr>\n",
       "      <th>4</th>\n",
       "      <td>/topics/android</td>\n",
       "      <td>Android</td>\n",
       "      <td>Android is an operating system built by Google...</td>\n",
       "    </tr>\n",
       "    <tr>\n",
       "      <th>...</th>\n",
       "      <td>...</td>\n",
       "      <td>...</td>\n",
       "      <td>...</td>\n",
       "    </tr>\n",
       "    <tr>\n",
       "      <th>160</th>\n",
       "      <td>/topics/twitter</td>\n",
       "      <td>Twitter</td>\n",
       "      <td>Twitter is an online news and social networkin...</td>\n",
       "    </tr>\n",
       "    <tr>\n",
       "      <th>161</th>\n",
       "      <td>/topics/typescript</td>\n",
       "      <td>TypeScript</td>\n",
       "      <td>TypeScript is a typed superset of JavaScript t...</td>\n",
       "    </tr>\n",
       "    <tr>\n",
       "      <th>162</th>\n",
       "      <td>/topics/ubuntu</td>\n",
       "      <td>Ubuntu</td>\n",
       "      <td>Ubuntu is a Linux-based operating system.</td>\n",
       "    </tr>\n",
       "    <tr>\n",
       "      <th>163</th>\n",
       "      <td>/topics/unity</td>\n",
       "      <td>Unity</td>\n",
       "      <td>Unity is a game engine used to create 2D/3D vi...</td>\n",
       "    </tr>\n",
       "    <tr>\n",
       "      <th>164</th>\n",
       "      <td>/topics/unreal-engine</td>\n",
       "      <td>Unreal Engine</td>\n",
       "      <td>Unreal Engine is used to create awesome games,...</td>\n",
       "    </tr>\n",
       "  </tbody>\n",
       "</table>\n",
       "<p>165 rows × 3 columns</p>\n",
       "</div>"
      ],
      "text/plain": [
       "                      href          title  \\\n",
       "0               /topics/3d             3D   \n",
       "1             /topics/ajax           Ajax   \n",
       "2        /topics/algorithm      Algorithm   \n",
       "3            /topics/amphp            Amp   \n",
       "4          /topics/android        Android   \n",
       "..                     ...            ...   \n",
       "160        /topics/twitter        Twitter   \n",
       "161     /topics/typescript     TypeScript   \n",
       "162         /topics/ubuntu         Ubuntu   \n",
       "163          /topics/unity          Unity   \n",
       "164  /topics/unreal-engine  Unreal Engine   \n",
       "\n",
       "                                                  body  \n",
       "0    3D refers to the use of three-dimensional grap...  \n",
       "1    Ajax is a technique for creating interactive w...  \n",
       "2    Algorithms are self-contained sequences that c...  \n",
       "3    Amp is a non-blocking concurrency library for ...  \n",
       "4    Android is an operating system built by Google...  \n",
       "..                                                 ...  \n",
       "160  Twitter is an online news and social networkin...  \n",
       "161  TypeScript is a typed superset of JavaScript t...  \n",
       "162          Ubuntu is a Linux-based operating system.  \n",
       "163  Unity is a game engine used to create 2D/3D vi...  \n",
       "164  Unreal Engine is used to create awesome games,...  \n",
       "\n",
       "[165 rows x 3 columns]"
      ]
     },
     "execution_count": 120,
     "metadata": {},
     "output_type": "execute_result"
    }
   ],
   "source": [
    "df_topics = pd.read_json('topics.jsonl', lines=True)\n",
    "df_topics"
   ]
  },
  {
   "cell_type": "code",
   "execution_count": 146,
   "metadata": {},
   "outputs": [
    {
     "data": {
      "text/plain": [
       "href                                            /topics/3d\n",
       "title                                                   3D\n",
       "body     3D refers to the use of three-dimensional grap...\n",
       "Name: 0, dtype: object"
      ]
     },
     "execution_count": 146,
     "metadata": {},
     "output_type": "execute_result"
    }
   ],
   "source": [
    "topic = df_topics.iloc[0]\n",
    "topic"
   ]
  },
  {
   "cell_type": "code",
   "execution_count": 203,
   "metadata": {},
   "outputs": [],
   "source": [
    "r = get(f\"https://github.com/{topic.href}?page={1}\", xml=True)\n",
    "soup = BeautifulSoup(r.content)"
   ]
  },
  {
   "cell_type": "code",
   "execution_count": 254,
   "metadata": {},
   "outputs": [],
   "source": [
    "@dataclass\n",
    "class Repo:\n",
    "    repo_owner: str | None\n",
    "    repo_name: str | None\n",
    "    repo_url: str\n",
    "    start: int\n",
    "    icon: str\n",
    "    desc: str | None\n",
    "    tags: List2[tuple[str | None, str]]\n",
    "    timestamp: str\n",
    "    lang: str | None\n",
    "    def to_json(self) -> dict:\n",
    "        return {\n",
    "                'repo_owner': self.repo_owner,\n",
    "                'repo_name': self.repo_name,\n",
    "                'repo_url': self.repo_url,\n",
    "                'start': self.start,\n",
    "                'icon': self.icon,\n",
    "                'desc': self.desc,\n",
    "                'tags': self.tags,\n",
    "                'timestamp': self.timestamp,\n",
    "                'lang': self.lang\n",
    "            }\n",
    "    \n",
    "\n",
    "def get_topics_repo(soup: BeautifulSoup) -> List2[Repo]:\n",
    "    items: List2[Tag] = List2.from_list(\n",
    "        soup\n",
    "        .find('html', recursive=False)\n",
    "        .find('body', recursive=False)\n",
    "        .find_all('article', recursive=False)    \n",
    "    )\n",
    "    \n",
    "    def get_text(tag: None | Tag) -> str | None:\n",
    "        if tag is None: return None\n",
    "        return tag.text\n",
    "    \n",
    "    def get_from_item(item: Tag) -> Repo | None:\n",
    "        start_count = item.find('span', {'id': \"repo-stars-counter-star\"}, recursive=True).get('title')\n",
    "        title_div = item.find('h3', recursive=True).find_all('a', recursive=False)\n",
    "        icon_div = item.find('a', recursive=False)\n",
    "        main_div = item.find_all('div', recursive=False)[1].find_all('div', recursive=False)\n",
    "        if len(main_div) < 3: return None\n",
    "        desc_div, tags_div, timestamp_div = main_div\n",
    "        return Repo(\n",
    "            repo_owner = get_text(title_div[0]),\n",
    "            repo_name = get_text(title_div[1]),\n",
    "            repo_url = title_div[1].get('href'),\n",
    "            start = int(start_count.replace(',', '').strip()),\n",
    "            icon = icon_div.find('img', recursive=False).get('src') if icon_div else None,\n",
    "            desc = get_text(desc_div.find('p', recursive=False)),\n",
    "            tags = List2.from_list(tags_div.find_all('a')).map(lambda x: (get_text(x), x.get('href'))),\n",
    "            timestamp = timestamp_div.find('relative-time').get('datetime'),\n",
    "            lang = get_text(timestamp_div.find('span', {'itemprop': 'programmingLanguage'}))\n",
    "        )\n",
    "    \n",
    "    return items.map(get_from_item).filter(lambda x: x is not None)\n",
    "\n",
    "repos = get_topics_repo(soup)"
   ]
  },
  {
   "cell_type": "code",
   "execution_count": 284,
   "metadata": {},
   "outputs": [],
   "source": [
    "repos = {\n",
    "    \n",
    "}"
   ]
  },
  {
   "cell_type": "code",
   "execution_count": 343,
   "metadata": {},
   "outputs": [],
   "source": [
    "def featch_topic_repo(topic: Topic, page: int = 1, force: bool = True) -> tuple[bool, List2[Repo]]:\n",
    "    global repos\n",
    "    idx = page - 1\n",
    "    \n",
    "    cache = False\n",
    "        \n",
    "    if repos.get(topic.title) is None:\n",
    "        r = get(f\"https://github.com/{topic.href}?page={page}\", xml=True)\n",
    "        soup = BeautifulSoup(r.content)\n",
    "        repos[topic.title] = [get_topics_repo(soup)]\n",
    "        # repos.append(get_topics_repo(soup)) # TODO Multipage repo\n",
    "    else:   \n",
    "        assert len(repos[topic.title]) >= idx, \"Something went wrong\"\n",
    "        if len(repos[topic.title]) == idx:\n",
    "            r = get(f\"https://github.com/{topic.href}?page={page}\", xml=True)\n",
    "            soup = BeautifulSoup(r.content)\n",
    "            repos[topic.title].append(get_topics_repo(soup))\n",
    "        else: cache = True\n",
    "    if force and len(repos[topic.title][idx]) == 0:\n",
    "        del repos[topic.title][idx]\n",
    "        return featch_topic_repo(topic=topic, page=page, force=False)\n",
    "    return cache, repos[topic.title][idx]"
   ]
  },
  {
   "cell_type": "code",
   "execution_count": 332,
   "metadata": {},
   "outputs": [
    {
     "data": {
      "text/plain": [
       "(True,\n",
       " [Repo(repo_owner='DarklightGames', repo_name='io_scene_psk_psa', repo_url='/DarklightGames/io_scene_psk_psa', start=428, icon=None, desc='A Blender extension for importing and exporting Unreal PSK and PSA files', tags=[('python', '/topics/python'), ('export', '/topics/export'), ('psa', '/topics/psa'), ('blender', '/topics/blender'), ('import', '/topics/import'), ('unreal-engine', '/topics/unreal-engine'), ('blender-addon', '/topics/blender-addon'), ('psk', '/topics/psk'), ('blender-extension', '/topics/blender-extension')], timestamp='2025-01-21T03:58:00Z', lang='Python'),\n",
       "  Repo(repo_owner='spatialos', repo_name='UnrealGDK', repo_url='/spatialos/UnrealGDK', start=406, icon='https://repository-images.githubusercontent.com/109980189/3aa77880-e8fb-11e9-918f-fb5b99ac19f6', desc='SpatialOS GDK for Unreal Plugin', tags=[('online', '/topics/online'), ('gdk', '/topics/gdk'), ('mmo', '/topics/mmo'), ('unreal-engine', '/topics/unreal-engine'), ('improbable', '/topics/improbable'), ('spatialos', '/topics/spatialos'), ('unreal-engine-4', '/topics/unreal-engine-4'), ('mmo-engine', '/topics/mmo-engine'), ('unreal-marketplace', '/topics/unreal-marketplace'), ('spatialos-gdk', '/topics/spatialos-gdk'), ('mmo-development', '/topics/mmo-development')], timestamp='2022-01-24T18:53:24Z', lang='C++'),\n",
       "  Repo(repo_owner='AntonPalmqvist', repo_name='physically-based-api', repo_url='/AntonPalmqvist/physically-based-api', start=403, icon='https://repository-images.githubusercontent.com/429147887/f10295ef-ed31-4bd3-831f-a55a36e2156e', desc='A database of physically based values for CG artists.', tags=[('gamedev', '/topics/gamedev'), ('rendering', '/topics/rendering'), ('computer-graphics', '/topics/computer-graphics'), ('unreal-engine', '/topics/unreal-engine'), ('vfx', '/topics/vfx'), ('pbr', '/topics/pbr'), ('3d', '/topics/3d'), ('usd', '/topics/usd'), ('3d-graphics', '/topics/3d-graphics'), ('physically-based-rendering', '/topics/physically-based-rendering'), ('materialx', '/topics/materialx'), ('real-time-rendering', '/topics/real-time-rendering'), ('openpbr', '/topics/openpbr')], timestamp='2025-01-04T20:07:02Z', lang='HTML'),\n",
       "  Repo(repo_owner='zfw1226', repo_name='gym-unrealcv', repo_url='/zfw1226/gym-unrealcv', start=385, icon=None, desc='Unreal environments for reinforcement learning', tags=[('reinforcement-learning', '/topics/reinforcement-learning'), ('gym', '/topics/gym'), ('unreal-engine', '/topics/unreal-engine'), ('unrealcv', '/topics/unrealcv'), ('visual-reinforcement-learning', '/topics/visual-reinforcement-learning')], timestamp='2024-07-03T07:59:48Z', lang='Python'),\n",
       "  Repo(repo_owner='Megasteakman', repo_name='MegaMocapVR', repo_url='/Megasteakman/MegaMocapVR', start=382, icon='https://repository-images.githubusercontent.com/370438120/f132c0e1-4050-4af7-b741-c68ec53e8069', desc='A SteamVR powered mocap solution for Unreal Engine', tags=[('vr', '/topics/vr'), ('animations', '/topics/animations'), ('motion-capture', '/topics/motion-capture'), ('unreal-engine', '/topics/unreal-engine'), ('mocap', '/topics/mocap'), ('vtuber', '/topics/vtuber')], timestamp='2025-01-18T22:18:19Z', lang=None),\n",
       "  Repo(repo_owner='EliotVU', repo_name='Unreal-Library', repo_url='/EliotVU/Unreal-Library', start=376, icon=None, desc='UnrealScript decompiler library for Unreal package files (.upk, .u, .uasset; etc), with support for Unreal Engine 1, 2, and 3', tags=[('bytecode', '/topics/bytecode'), ('exporter', '/topics/exporter'), ('decompiler', '/topics/decompiler'), ('reverse-engineering', '/topics/reverse-engineering'), ('unreal', '/topics/unreal'), ('help-wanted', '/topics/help-wanted'), ('unreal-engine', '/topics/unreal-engine'), ('decompilation', '/topics/decompilation'), ('ue-explorer', '/topics/ue-explorer'), ('unrealscript', '/topics/unrealscript'), ('deserializer', '/topics/deserializer'), ('extracter', '/topics/extracter'), ('upk', '/topics/upk')], timestamp='2025-01-17T14:46:15Z', lang='C#'),\n",
       "  Repo(repo_owner='Jay2645', repo_name='Unreal-Polygonal-Map-Gen', repo_url='/Jay2645/Unreal-Polygonal-Map-Gen', start=370, icon=None, desc='An Unreal Engine 4 implementation of the Polygonal Map Generator for generating islands found at http://www-cs-students.stanford.edu/~amitp/game-programming/polygon-map-generation/', tags=[('game', '/topics/game'), ('graph', '/topics/graph'), ('polygon', '/topics/polygon'), ('unreal', '/topics/unreal'), ('unrealengine', '/topics/unrealengine'), ('unreal-engine', '/topics/unreal-engine'), ('ue4', '/topics/ue4'), ('voronoi-diagram', '/topics/voronoi-diagram'), ('voronoi', '/topics/voronoi'), ('heightmap', '/topics/heightmap'), ('map-generation', '/topics/map-generation'), ('delaunay-triangulation', '/topics/delaunay-triangulation'), ('unreal-engine-4', '/topics/unreal-engine-4')], timestamp='2022-02-08T04:54:18Z', lang='C++'),\n",
       "  Repo(repo_owner='microsoft', repo_name='AirSim-NeurIPS2019-Drone-Racing', repo_url='/microsoft/AirSim-NeurIPS2019-Drone-Racing', start=365, icon=None, desc='Drone Racing @ NeurIPS 2019, built on Microsoft AirSim', tags=[('microsoft', '/topics/microsoft'), ('machine-learning', '/topics/machine-learning'), ('computer-vision', '/topics/computer-vision'), ('robotics', '/topics/robotics'), ('motion-planning', '/topics/motion-planning'), ('robotics-competition', '/topics/robotics-competition'), ('unreal-engine', '/topics/unreal-engine'), ('drones', '/topics/drones'), ('airsim', '/topics/airsim'), ('robotics-simulation', '/topics/robotics-simulation'), ('drone-racing', '/topics/drone-racing'), ('neurips-competition', '/topics/neurips-competition')], timestamp='2022-08-12T23:58:26Z', lang='Python'),\n",
       "  Repo(repo_owner='gtreshchev', repo_name='RuntimeAudioImporter', repo_url='/gtreshchev/RuntimeAudioImporter', start=364, icon='https://repository-images.githubusercontent.com/320288642/0d3394a4-df6b-45ac-97f5-ed5b89aede44', desc='Runtime Audio Importer plugin for Unreal Engine. Importing audio of various formats at runtime.', tags=[('audio', '/topics/audio'), ('plugin', '/topics/plugin'), ('mp3', '/topics/mp3'), ('audio-files', '/topics/audio-files'), ('audio-player', '/topics/audio-player'), ('unrealengine', '/topics/unrealengine'), ('mp3-player', '/topics/mp3-player'), ('vad', '/topics/vad'), ('audio-formats', '/topics/audio-formats'), ('unreal-engine', '/topics/unreal-engine'), ('ue4', '/topics/ue4'), ('blueprints', '/topics/blueprints'), ('audio-converter', '/topics/audio-converter'), ('unreal-engine-4', '/topics/unreal-engine-4'), ('voice-activity-detection', '/topics/voice-activity-detection'), ('ue4-plugin', '/topics/ue4-plugin'), ('bink', '/topics/bink'), ('ue5', '/topics/ue5'), ('unreal-engine-5', '/topics/unreal-engine-5'), ('ue5-plugin', '/topics/ue5-plugin')], timestamp='2025-01-18T00:19:31Z', lang='C++'),\n",
       "  Repo(repo_owner='ibbles', repo_name='LearningUnrealEngine', repo_url='/ibbles/LearningUnrealEngine', start=351, icon=None, desc='[Deprecated, see LearningUnreal instead.] A bunch of notes and code snippets that I write while figuring out how to use the Unreal Engine.', tags=[('unreal-engine', '/topics/unreal-engine')], timestamp='2024-09-20T07:22:43Z', lang='Shell'),\n",
       "  Repo(repo_owner='SiggiG', repo_name='ProceduralMeshDemos', repo_url='/SiggiG/ProceduralMeshDemos', start=346, icon=None, desc='Examples of procedural mesh generation in Unreal 4.', tags=[('procedural', '/topics/procedural'), ('unrealengine', '/topics/unrealengine'), ('mesh-generation', '/topics/mesh-generation'), ('unreal-engine', '/topics/unreal-engine')], timestamp='2020-12-06T13:33:45Z', lang='C++'),\n",
       "  Repo(repo_owner='Sollimann', repo_name='bonsai', repo_url='/Sollimann/bonsai', start=346, icon=None, desc='Rust implementation of AI behavior trees.', tags=[('game', '/topics/game'), ('rust', '/topics/rust'), ('fsm', '/topics/fsm'), ('robotics', '/topics/robotics'), ('navigation', '/topics/navigation'), ('game-development', '/topics/game-development'), ('concurrency', '/topics/concurrency'), ('ros', '/topics/ros'), ('behavior-tree', '/topics/behavior-tree'), ('piston', '/topics/piston'), ('finite-state-machine', '/topics/finite-state-machine'), ('unreal-engine', '/topics/unreal-engine'), ('ros2', '/topics/ros2'), ('autonomous-robots', '/topics/autonomous-robots'), ('bevy', '/topics/bevy')], timestamp='2025-01-22T22:09:43Z', lang='Rust'),\n",
       "  Repo(repo_owner='chris-gong', repo_name='flopnite-ue4', repo_url='/chris-gong/flopnite-ue4', start=337, icon=None, desc='An attempt at remaking the popular battle royale game, Fortnite, using Unreal Engine 4 and Amazon GameLift', tags=[('game', '/topics/game'), ('windows', '/topics/windows'), ('linux', '/topics/linux'), ('aws', '/topics/aws'), ('networking', '/topics/networking'), ('replication', '/topics/replication'), ('cpp', '/topics/cpp'), ('multiplayer', '/topics/multiplayer'), ('game-development', '/topics/game-development'), ('unreal-engine', '/topics/unreal-engine'), ('ue4', '/topics/ue4'), ('client-server', '/topics/client-server'), ('amazon-web-services', '/topics/amazon-web-services'), ('gamelift', '/topics/gamelift'), ('unreal-engine-4', '/topics/unreal-engine-4'), ('battle-royale', '/topics/battle-royale'), ('fortnite', '/topics/fortnite')], timestamp='2021-09-29T03:06:46Z', lang='C++'),\n",
       "  Repo(repo_owner='aquanox', repo_name='SubsystemBrowserPlugin', repo_url='/aquanox/SubsystemBrowserPlugin', start=331, icon='https://repository-images.githubusercontent.com/435034428/7e93ea56-cf94-4cba-94f9-62b567cfe4ae', desc='Plugin that adds a Subsystem Browser panel for Unreal Engine Editor to explore running subsystems and edit their properties.', tags=[('plugin', '/topics/plugin'), ('c-plus-plus', '/topics/c-plus-plus'), ('unreal-engine', '/topics/unreal-engine'), ('ue4', '/topics/ue4'), ('editor-extension', '/topics/editor-extension'), ('ue4-plugin', '/topics/ue4-plugin'), ('unreal-engine-plugin', '/topics/unreal-engine-plugin'), ('subsystems', '/topics/subsystems'), ('engine-plugins', '/topics/engine-plugins'), ('ue5', '/topics/ue5'), ('unreal-engine-cpp-plugin', '/topics/unreal-engine-cpp-plugin'), ('unreal-engine-code-plugin', '/topics/unreal-engine-code-plugin'), ('ue5-plugin', '/topics/ue5-plugin')], timestamp='2024-11-18T08:09:37Z', lang='C++'),\n",
       "  Repo(repo_owner='NotYetGames', repo_name='WarriOrb', repo_url='/NotYetGames/WarriOrb', start=323, icon='https://repository-images.githubusercontent.com/347064903/06a7c800-8729-11eb-94b4-5da5120de720', desc='Full source code for WarriOrb, a Dark-Souls like action platformer - using Unreal Engine 4', tags=[('game', '/topics/game'), ('gamedev', '/topics/gamedev'), ('game-development', '/topics/game-development'), ('unreal', '/topics/unreal'), ('unreal-engine', '/topics/unreal-engine'), ('unreal-engine-4', '/topics/unreal-engine-4'), ('unreal-games', '/topics/unreal-games'), ('unrealengine4', '/topics/unrealengine4')], timestamp='2021-05-29T10:15:32Z', lang='C++'),\n",
       "  Repo(repo_owner='hfjooste', repo_name='UltimateStarterKit', repo_url='/hfjooste/UltimateStarterKit', start=320, icon='https://repository-images.githubusercontent.com/593064749/8d4c9022-ddfb-4af9-bbc6-906c97a28542', desc='The Ultimate Starter Kit plugin to speed up development of Unreal Engine games', tags=[('audio', '/topics/audio'), ('plugin', '/topics/plugin'), ('gamedev', '/topics/gamedev'), ('currency', '/topics/currency'), ('logging', '/topics/logging'), ('inventory', '/topics/inventory'), ('dialogue', '/topics/dialogue'), ('platformer', '/topics/platformer'), ('health', '/topics/health'), ('stats', '/topics/stats'), ('unreal-engine', '/topics/unreal-engine'), ('ue4', '/topics/ue4'), ('save', '/topics/save'), ('player-stats', '/topics/player-stats'), ('save-data', '/topics/save-data'), ('unreal-plugin', '/topics/unreal-plugin'), ('3d-platformer', '/topics/3d-platformer'), ('ue5', '/topics/ue5'), ('input-indicator', '/topics/input-indicator')], timestamp='2024-11-20T16:08:33Z', lang='C++'),\n",
       "  Repo(repo_owner='JediKnightChan', repo_name='EternalCrusadeResurrection', repo_url='/JediKnightChan/EternalCrusadeResurrection', start=297, icon='https://repository-images.githubusercontent.com/538119283/08495aca-9d4a-4e38-bf00-6c07c412a031', desc='Unreal Engine 5 multiplayer shooter C++ project, resurrection of Warhammer 40K: Eternal Crusade. Developed using \"UE best practices\" from Lyra for a more complex behaviour', tags=[('game', '/topics/game'), ('game-development', '/topics/game-development'), ('unreal-engine', '/topics/unreal-engine'), ('ue4', '/topics/ue4'), ('unreal-engine-4', '/topics/unreal-engine-4'), ('lyra', '/topics/lyra'), ('unreal-games', '/topics/unreal-games'), ('ue4-game', '/topics/ue4-game'), ('ue5', '/topics/ue5'), ('unreal-engine-5', '/topics/unreal-engine-5'), ('ue5-game', '/topics/ue5-game'), ('ue5-project', '/topics/ue5-project'), ('ue5-shooter', '/topics/ue5-shooter'), ('lyra-starter-game', '/topics/lyra-starter-game')], timestamp='2025-01-15T12:19:09Z', lang='C++'),\n",
       "  Repo(repo_owner='TheNewJavaman', repo_name='unreal-vr', repo_url='/TheNewJavaman/unreal-vr', start=296, icon='https://repository-images.githubusercontent.com/463010378/087f33ac-413f-4869-8ada-0020ebda5f38', desc='Adds virtual reality support to flatscreen Unreal Engine games', tags=[('directx', '/topics/directx'), ('virtual-reality', '/topics/virtual-reality'), ('unreal-engine', '/topics/unreal-engine'), ('modding-games', '/topics/modding-games'), ('openxr', '/topics/openxr')], timestamp='2023-01-11T03:59:04Z', lang='C++'),\n",
       "  Repo(repo_owner='trumank', repo_name='uesave-rs', repo_url='/trumank/uesave-rs', start=290, icon=None, desc='Rust library and CLI to read and write Unreal Engine save files', tags=[('unreal-engine', '/topics/unreal-engine'), ('save-editor', '/topics/save-editor'), ('gvas', '/topics/gvas')], timestamp='2025-01-12T22:28:21Z', lang='Rust'),\n",
       "  Repo(repo_owner='adynathos', repo_name='AugmentedUnreality', repo_url='/adynathos/AugmentedUnreality', start=290, icon=None, desc='Augmented reality for Unreal Engine 4', tags=[('android', '/topics/android'), ('augmented-reality', '/topics/augmented-reality'), ('camera-calibration', '/topics/camera-calibration'), ('unreal-engine', '/topics/unreal-engine'), ('fiducial-markers', '/topics/fiducial-markers')], timestamp='2020-09-16T23:03:50Z', lang='C++')])"
      ]
     },
     "execution_count": 332,
     "metadata": {},
     "output_type": "execute_result"
    }
   ],
   "source": [
    "featch_topic_repo(topic=topic, page=4)"
   ]
  },
  {
   "cell_type": "code",
   "execution_count": 352,
   "metadata": {},
   "outputs": [
    {
     "name": "stderr",
     "output_type": "stream",
     "text": [
      " 63%|██████▎   | 1038/1650 [03:51<00:53, 11.41it/s]"
     ]
    },
    {
     "name": "stdout",
     "output_type": "stream",
     "text": [
      "Topic(href='/topics/mvvmcross', title='MvvmCross', body='The .NET MVVM framework for cross-platform solutions, including Xamarin.iOS, Xamarin.Android, Windows, and Mac.') [7] Skipping...\n"
     ]
    },
    {
     "name": "stderr",
     "output_type": "stream",
     "text": [
      " 80%|███████▉  | 1316/1650 [07:41<08:33,  1.54s/it]"
     ]
    },
    {
     "name": "stdout",
     "output_type": "stream",
     "text": [
      "Topic(href='/topics/ratchet', title='Ratchet', body='Ratchet is a set of libraries to handle WebSockets asynchronously in PHP.') [7] Skipping...\n"
     ]
    },
    {
     "name": "stderr",
     "output_type": "stream",
     "text": [
      " 90%|████████▉ | 1483/1650 [13:11<03:44,  1.34s/it]"
     ]
    },
    {
     "name": "stdout",
     "output_type": "stream",
     "text": [
      "Topic(href='/topics/spacevim', title='SpaceVim', body='SpaceVim is a community-driven distribution of the vim editor that allows managing your plugins in layers.') [6] Skipping...\n"
     ]
    },
    {
     "name": "stderr",
     "output_type": "stream",
     "text": [
      "100%|█████████▉| 1643/1650 [18:27<00:04,  1.48it/s]\n"
     ]
    }
   ],
   "source": [
    "with tqdm(total=len(filtered_topics) * 10) as pbar:\n",
    "    for topic in filtered_topics:\n",
    "        flag = False\n",
    "        for i in range(10):\n",
    "            pbar.update(1)\n",
    "            try:    \n",
    "                cache, item = featch_topic_repo(topic=topic, page=i, force=True)\n",
    "            except Exception as e: item = None \n",
    "            if item is None: \n",
    "                if flag: \n",
    "                    print(f'{topic} [{i}] Skipping...')\n",
    "                    break\n",
    "                else: flag = True\n",
    "                continue\n",
    "        df_repos = pd.DataFrame(List2.from_list([ii for i in repos[topic.title] for ii in i]).map(lambda x: x.to_json()))\n",
    "        df_repos.to_json(os.path.join('repos', f'{topic.title}.jsonl'), orient='records', lines=True)"
   ]
  },
  {
   "cell_type": "code",
   "execution_count": 350,
   "metadata": {},
   "outputs": [
    {
     "data": {
      "text/plain": [
       "(False,\n",
       " [Repo(repo_owner='visualfc', repo_name='liteide', repo_url='/visualfc/liteide', start=7641, icon=None, desc='LiteIDE is a simple, open source, cross-platform Go IDE. ', tags=[('go', '/topics/go'), ('golang', '/topics/golang'), ('qt', '/topics/qt'), ('cross-platform', '/topics/cross-platform'), ('ide', '/topics/ide'), ('liteide', '/topics/liteide')], timestamp='2024-08-02T02:23:07Z', lang='C++'),\n",
       "  Repo(repo_owner='albertlauncher', repo_name='albert', repo_url='/albertlauncher/albert', start=7364, icon=None, desc='A fast and flexible keyboard launcher', tags=[('python', '/topics/python'), ('qt', '/topics/qt'), ('cpp', '/topics/cpp'), ('launcher', '/topics/launcher'), ('plugins', '/topics/plugins'), ('application-launcher', '/topics/application-launcher'), ('albert', '/topics/albert'), ('albertlauncher', '/topics/albertlauncher'), ('keyboard-launcher', '/topics/keyboard-launcher'), ('qt6', '/topics/qt6')], timestamp='2025-01-06T22:22:29Z', lang='C++'),\n",
       "  Repo(repo_owner='PrismLauncher', repo_name='PrismLauncher', repo_url='/PrismLauncher/PrismLauncher', start=6211, icon=None, desc='A custom launcher for Minecraft that allows you to easily manage multiple installations of Minecraft at once (Fork of MultiMC)', tags=[('linux', '/topics/linux'), ('minecraft', '/topics/minecraft'), ('qt', '/topics/qt'), ('cpp', '/topics/cpp'), ('forge', '/topics/forge'), ('minecraft-launcher', '/topics/minecraft-launcher'), ('qt5', '/topics/qt5'), ('cpp17', '/topics/cpp17'), ('multimc', '/topics/multimc'), ('fabricmc', '/topics/fabricmc'), ('qt6', '/topics/qt6'), ('modrinth', '/topics/modrinth'), ('quiltmc', '/topics/quiltmc'), ('prismlauncher', '/topics/prismlauncher')], timestamp='2025-01-21T21:47:53Z', lang='C++'),\n",
       "  Repo(repo_owner='nodegui', repo_name='react-nodegui', repo_url='/nodegui/react-nodegui', start=6196, icon=None, desc='Build performant, native and cross-platform desktop applications with native React + powerful CSS like styling.ğŸš€', tags=[('react', '/topics/react'), ('nodejs', '/topics/nodejs'), ('css', '/topics/css'), ('gui', '/topics/gui'), ('qt', '/topics/qt'), ('native', '/topics/native'), ('desktop', '/topics/desktop'), ('react-desktop', '/topics/react-desktop'), ('openlibrary', '/topics/openlibrary')], timestamp='2023-11-03T01:50:26Z', lang='TypeScript'),\n",
       "  Repo(repo_owner='zhiyiYo', repo_name='PyQt-Fluent-Widgets', repo_url='/zhiyiYo/PyQt-Fluent-Widgets', start=6073, icon='https://repository-images.githubusercontent.com/390782193/6125400d-e390-467e-a5bc-c160dbdfab35', desc='A fluent design widgets library based on C++ Qt/PyQt/PySide. Make Qt Great Again.', tags=[('python', '/topics/python'), ('gui', '/topics/gui'), ('qt', '/topics/qt'), ('ui', '/topics/ui'), ('modern', '/topics/modern'), ('custom', '/topics/custom'), ('pyqt5', '/topics/pyqt5'), ('widgets', '/topics/widgets'), ('qt5', '/topics/qt5'), ('software', '/topics/software'), ('pyside2', '/topics/pyside2'), ('fluent', '/topics/fluent'), ('fluent-design', '/topics/fluent-design'), ('winui', '/topics/winui'), ('winui3', '/topics/winui3'), ('fluentui', '/topics/fluentui'), ('qt6', '/topics/qt6'), ('pyqt6', '/topics/pyqt6'), ('pyside6', '/topics/pyside6'), ('win11', '/topics/win11')], timestamp='2025-01-23T13:05:50Z', lang='Python'),\n",
       "  Repo(repo_owner='pawelsalawa', repo_name='sqlitestudio', repo_url='/pawelsalawa/sqlitestudio', start=5637, icon=None, desc='A free, open source, multi-platform SQLite database manager.', tags=[('qt', '/topics/qt'), ('database', '/topics/database'), ('cpp', '/topics/cpp'), ('sqlite', '/topics/sqlite'), ('sqlcipher', '/topics/sqlcipher'), ('qt5', '/topics/qt5'), ('database-management', '/topics/database-management'), ('wxsqlite3', '/topics/wxsqlite3'), ('sqlite3-database', '/topics/sqlite3-database')], timestamp='2025-01-23T01:05:56Z', lang='C'),\n",
       "  Repo(repo_owner='Serial-Studio', repo_name='Serial-Studio', repo_url='/Serial-Studio/Serial-Studio', start=5105, icon='https://repository-images.githubusercontent.com/305089628/a4e93a36-d955-44e6-8957-f5b377dde6c0', desc='Data visualization software for embedded devices and projects', tags=[('iot', '/topics/iot'), ('arduino', '/topics/arduino'), ('qt', '/topics/qt'), ('microcontroller', '/topics/microcontroller'), ('embedded', '/topics/embedded'), ('csv', '/topics/csv'), ('serial', '/topics/serial'), ('graph', '/topics/graph'), ('network', '/topics/network'), ('projects', '/topics/projects'), ('ground-station', '/topics/ground-station'), ('cansat', '/topics/cansat'), ('serial-studio', '/topics/serial-studio')], timestamp='2025-01-11T21:53:38Z', lang='C++'),\n",
       "  Repo(repo_owner='r0x0r', repo_name='pywebview', repo_url='/r0x0r/pywebview', start=4924, icon=None, desc='Build GUI for your Python program with JavaScript, HTML, and CSS', tags=[('javascript', '/topics/javascript'), ('python', '/topics/python'), ('windows', '/topics/windows'), ('linux', '/topics/linux'), ('html', '/topics/html'), ('gtk', '/topics/gtk'), ('gui', '/topics/gui'), ('qt', '/topics/qt'), ('osx', '/topics/osx'), ('cef', '/topics/cef'), ('cocoa', '/topics/cocoa'), ('webkit', '/topics/webkit')], timestamp='2025-01-22T14:22:23Z', lang='Python'),\n",
       "  Repo(repo_owner='mixxxdj', repo_name='mixxx', repo_url='/mixxxdj/mixxx', start=4865, icon=None, desc='Mixxx is Free DJ software that gives you everything you need to perform live mixes.', tags=[('audio', '/topics/audio'), ('music', '/topics/music'), ('windows', '/topics/windows'), ('linux', '/topics/linux'), ('mac', '/topics/mac'), ('qt', '/topics/qt'), ('hid', '/topics/hid'), ('midi', '/topics/midi'), ('dj', '/topics/dj')], timestamp='2025-01-22T13:48:23Z', lang='C++'),\n",
       "  Repo(repo_owner='pbek', repo_name='QOwnNotes', repo_url='/pbek/QOwnNotes', start=4810, icon='https://repository-images.githubusercontent.com/27436491/01a04e00-c325-11e9-92ce-a83c1c27c018', desc='QOwnNotes is a plain-text file notepad and todo-list manager with Markdown support and Nextcloud / ownCloud integration.', tags=[('chrome-extension', '/topics/chrome-extension'), ('markdown', '/topics/markdown'), ('c-plus-plus', '/topics/c-plus-plus'), ('qt', '/topics/qt'), ('dropbox', '/topics/dropbox'), ('notebook', '/topics/notebook'), ('notes', '/topics/notes'), ('bookmark', '/topics/bookmark'), ('nextcloud', '/topics/nextcloud'), ('owncloud', '/topics/owncloud'), ('caldav', '/topics/caldav'), ('firefox-extension', '/topics/firefox-extension'), ('pim', '/topics/pim'), ('note-taking', '/topics/note-taking'), ('pkm', '/topics/pkm'), ('nextcloud-notes', '/topics/nextcloud-notes'), ('qownnotes', '/topics/qownnotes'), ('local-first', '/topics/local-first'), ('second-brain', '/topics/second-brain'), ('llm', '/topics/llm')], timestamp='2025-01-21T19:01:48Z', lang='C++'),\n",
       "  Repo(repo_owner='qTox', repo_name='qTox', repo_url='/qTox/qTox', start=4783, icon=None, desc='qTox is a chat, voice, video, and file transfer IM client using the encrypted peer-to-peer Tox protocol.', tags=[('audio', '/topics/audio'), ('c-plus-plus', '/topics/c-plus-plus'), ('qt', '/topics/qt'), ('privacy', '/topics/privacy'), ('encryption', '/topics/encryption'), ('video', '/topics/video'), ('communication', '/topics/communication'), ('messaging', '/topics/messaging'), ('p2p', '/topics/p2p'), ('distributed', '/topics/distributed'), ('voip', '/topics/voip'), ('tox', '/topics/tox'), ('qtox', '/topics/qtox')], timestamp='2023-02-12T12:42:53Z', lang='C++'),\n",
       "  Repo(repo_owner='LibreCAD', repo_name='LibreCAD', repo_url='/LibreCAD/LibreCAD', start=4647, icon=None, desc='LibreCAD is a cross-platform 2D CAD program written in C++17. It can read DXF/DWG files and can write DXF/PDF/SVG files. It supports point/line/circle/ellipse/parabola/spline primitives. The user interface is highly customizable, and has dozens of translations.', tags=[('drawing', '/topics/drawing'), ('qt', '/topics/qt'), ('geometry', '/topics/geometry'), ('cad', '/topics/cad'), ('dxf', '/topics/dxf'), ('2d', '/topics/2d')], timestamp='2025-01-23T10:42:06Z', lang='C++'),\n",
       "  Repo(repo_owner='mapbox', repo_name='mapbox-gl-native', repo_url='/mapbox/mapbox-gl-native', start=4382, icon=None, desc='Interactive, thoroughly customizable maps in native Android, iOS, macOS, Node.js, and Qt applications, powered by vector tiles and OpenGL', tags=[('nodejs', '/topics/nodejs'), ('android', '/topics/android'), ('java', '/topics/java'), ('macos', '/topics/macos'), ('map', '/topics/map'), ('swift', '/topics/swift'), ('c-plus-plus', '/topics/c-plus-plus'), ('ios', '/topics/ios'), ('qt', '/topics/qt'), ('opengl', '/topics/opengl'), ('mapbox-gl', '/topics/mapbox-gl'), ('objective-c', '/topics/objective-c'), ('vector-tiles', '/topics/vector-tiles'), ('geojson', '/topics/geojson'), ('maps', '/topics/maps'), ('openstreetmap', '/topics/openstreetmap'), ('objective-c-plus-plus', '/topics/objective-c-plus-plus'), ('monorepo', '/topics/monorepo'), ('mapbox', '/topics/mapbox'), ('opengl-es', '/topics/opengl-es')], timestamp='2023-07-27T10:31:03Z', lang='C++'),\n",
       "  Repo(repo_owner='Librum-Reader', repo_name='Librum', repo_url='/Librum-Reader/Librum', start=4336, icon=None, desc='The Librum client application', tags=[('linux', '/topics/linux'), ('qt', '/topics/qt'), ('cmake', '/topics/cmake'), ('cpp', '/topics/cpp'), ('qml', '/topics/qml'), ('reader', '/topics/reader'), ('ebook-reader', '/topics/ebook-reader'), ('ebooks', '/topics/ebooks'), ('library-management', '/topics/library-management'), ('qt6', '/topics/qt6')], timestamp='2024-07-29T12:41:21Z', lang='C++'),\n",
       "  Repo(repo_owner='KDAB', repo_name='hotspot', repo_url='/KDAB/hotspot', start=4249, icon=None, desc='The Linux perf GUI for performance analysis.', tags=[('linux', '/topics/linux'), ('performance', '/topics/performance'), ('qt', '/topics/qt'), ('cpp', '/topics/cpp'), ('profiler', '/topics/profiler'), ('perf', '/topics/perf'), ('performance-analysis', '/topics/performance-analysis'), ('profiling', '/topics/profiling'), ('cpu-profiling', '/topics/cpu-profiling')], timestamp='2025-01-14T15:33:46Z', lang='C++'),\n",
       "  Repo(repo_owner='pyqtgraph', repo_name='pyqtgraph', repo_url='/pyqtgraph/pyqtgraph', start=3957, icon='https://repository-images.githubusercontent.com/12777496/ee71280a-5461-4978-b29e-39d584eb7782', desc='Fast data visualization and GUI tools for scientific / engineering applications', tags=[('visualization', '/topics/visualization'), ('python', '/topics/python'), ('qt', '/topics/qt'), ('numpy', '/topics/numpy'), ('scientific-visualization', '/topics/scientific-visualization'), ('hacktoberfest', '/topics/hacktoberfest')], timestamp='2025-01-20T13:42:01Z', lang='Python'),\n",
       "  Repo(repo_owner='nuttyartist', repo_name='notes', repo_url='/nuttyartist/notes', start=3900, icon=None, desc='Fast and beautiful note-taking app written in C++. Write down your thoughts.', tags=[('markdown', '/topics/markdown'), ('productivity', '/topics/productivity'), ('c-plus-plus', '/topics/c-plus-plus'), ('gui', '/topics/gui'), ('qt', '/topics/qt'), ('cross-platform', '/topics/cross-platform'), ('notes', '/topics/notes'), ('qt5', '/topics/qt5'), ('note-taking', '/topics/note-taking'), ('personal-knowledge-base', '/topics/personal-knowledge-base'), ('note-managment', '/topics/note-managment'), ('note-taking-app', '/topics/note-taking-app'), ('note-taker', '/topics/note-taker'), ('local-first', '/topics/local-first'), ('qt6', '/topics/qt6')], timestamp='2025-01-20T22:35:13Z', lang='C++')])"
      ]
     },
     "execution_count": 350,
     "metadata": {},
     "output_type": "execute_result"
    }
   ],
   "source": [
    "# repos['Qt']\n",
    "featch_topic_repo(topic=filtered_topics.filter(lambda x: x.title == 'Qt')[0], page=2, force=True)"
   ]
  },
  {
   "cell_type": "code",
   "execution_count": 342,
   "metadata": {},
   "outputs": [
    {
     "data": {
      "text/plain": [
       "[[]]"
      ]
     },
     "execution_count": 342,
     "metadata": {},
     "output_type": "execute_result"
    }
   ],
   "source": [
    "repos['Qt']"
   ]
  },
  {
   "cell_type": "code",
   "execution_count": 354,
   "metadata": {},
   "outputs": [],
   "source": [
    "df_all_repos = pd.DataFrame([i.to_json() for _, i in dict([(vv.repo_url, vv) for k, v in repos.items() for vv in [xx for x in v for xx in x]]).items()])\n",
    "df_all_repos.to_json('repos.jsonl', orient='records', lines=True)"
   ]
  },
  {
   "cell_type": "code",
   "execution_count": 321,
   "metadata": {},
   "outputs": [
    {
     "data": {
      "text/plain": [
       "9482"
      ]
     },
     "execution_count": 321,
     "metadata": {},
     "output_type": "execute_result"
    }
   ],
   "source": [
    "len([(vv.repo_url, vv) for k, v in repos.items() for vv in [xx for x in v for xx in x]])"
   ]
  },
  {
   "cell_type": "code",
   "execution_count": 362,
   "metadata": {},
   "outputs": [],
   "source": [
    "import pickle\n",
    "with open('repos.pkl', 'wb') as f: \n",
    "    pickle.dump([[x for x in i] for i in repos], f)"
   ]
  },
  {
   "cell_type": "code",
   "execution_count": 361,
   "metadata": {},
   "outputs": [],
   "source": [
    "import pickle\n",
    "with open('topics.pkl', 'wb') as f: \n",
    "    pickle.dump([[x for x in i] for i in topics], f)"
   ]
  },
  {
   "cell_type": "code",
   "execution_count": 317,
   "metadata": {},
   "outputs": [
    {
     "data": {
      "text/plain": [
       "[Repo(repo_owner='mrdoob', repo_name='three.js', repo_url='/mrdoob/three.js', start=103960, icon='https://repository-images.githubusercontent.com/576201/6c52fa00-6238-11eb-8763-f36f6e226bba', desc='JavaScript 3D Library.', tags=[('javascript', '/topics/javascript'), ('svg', '/topics/svg'), ('webgl', '/topics/webgl'), ('html5', '/topics/html5'), ('canvas', '/topics/canvas'), ('augmented-reality', '/topics/augmented-reality'), ('webaudio', '/topics/webaudio'), ('virtual-reality', '/topics/virtual-reality'), ('webgl2', '/topics/webgl2'), ('3d', '/topics/3d'), ('webgpu', '/topics/webgpu'), ('webxr', '/topics/webxr')], timestamp='2025-01-23T10:19:50Z', lang='JavaScript'),\n",
       " Repo(repo_owner='pmndrs', repo_name='react-three-fiber', repo_url='/pmndrs/react-three-fiber', start=28037, icon=None, desc='ðŸ‡¨ðŸ‡\\xad A React renderer for Three.js', tags=[('react', '/topics/react'), ('threejs', '/topics/threejs'), ('animation', '/topics/animation'), ('renderer', '/topics/renderer'), ('fiber', '/topics/fiber'), ('3d', '/topics/3d')], timestamp='2025-01-22T12:41:16Z', lang='TypeScript'),\n",
       " Repo(repo_owner='libgdx', repo_name='libgdx', repo_url='/libgdx/libgdx', start=23644, icon=None, desc='Desktop/Android/HTML5/iOS Java game development framework', tags=[('android', '/topics/android'), ('game', '/topics/game'), ('java', '/topics/java'), ('windows', '/topics/windows'), ('linux', '/topics/linux'), ('ios', '/topics/ios'), ('gamedev', '/topics/gamedev'), ('framework', '/topics/framework'), ('html5', '/topics/html5'), ('cross-platform', '/topics/cross-platform'), ('game-engine', '/topics/game-engine'), ('libgdx', '/topics/libgdx'), ('game-development', '/topics/game-development'), ('macosx', '/topics/macosx'), ('3d', '/topics/3d'), ('2d', '/topics/2d')], timestamp='2025-01-19T16:27:16Z', lang='Java'),\n",
       " Repo(repo_owner='BabylonJS', repo_name='Babylon.js', repo_url='/BabylonJS/Babylon.js', start=23526, icon='https://repository-images.githubusercontent.com/11007313/03147e80-4379-11ea-80b8-58c66da0bf29', desc='Babylon.js is a powerful, beautiful, simple, and open game and rendering engine packed into a friendly JavaScript framework.', tags=[('webgl', '/topics/webgl'), ('typescript', '/topics/typescript'), ('game-engine', '/topics/game-engine'), ('webvr', '/topics/webvr'), ('game-development', '/topics/game-development'), ('webaudio', '/topics/webaudio'), ('babylon', '/topics/babylon'), ('webgl2', '/topics/webgl2'), ('game-engine-3d', '/topics/game-engine-3d'), ('3d', '/topics/3d'), ('webgpu', '/topics/webgpu'), ('webxr', '/topics/webxr')], timestamp='2025-01-23T08:33:25Z', lang='TypeScript'),\n",
       " Repo(repo_owner='FreeCAD', repo_name='FreeCAD', repo_url='/FreeCAD/FreeCAD', start=22697, icon=None, desc='This is the official source code of FreeCAD, a free and opensource multiplatform 3D parametric modeler.', tags=[('windows', '/topics/windows'), ('linux', '/topics/linux'), ('engineering', '/topics/engineering'), ('architecture', '/topics/architecture'), ('cad', '/topics/cad'), ('mac-osx', '/topics/mac-osx'), ('fem', '/topics/fem'), ('coin', '/topics/coin'), ('bim', '/topics/bim'), ('freecad', '/topics/freecad'), ('3d-printing', '/topics/3d-printing'), ('3d', '/topics/3d'), ('opencascade', '/topics/opencascade')], timestamp='2025-01-23T10:44:26Z', lang='C++'),\n",
       " Repo(repo_owner='ssloy', repo_name='tinyrenderer', repo_url='/ssloy/tinyrenderer', start=21088, icon=None, desc='A brief computer graphics / rendering course', tags=[('learning', '/topics/learning'), ('c-plus-plus', '/topics/c-plus-plus'), ('fun', '/topics/fun'), ('tutorial', '/topics/tutorial'), ('opengl', '/topics/opengl'), ('cpp', '/topics/cpp'), ('shaders', '/topics/shaders'), ('picture', '/topics/picture'), ('graphics', '/topics/graphics'), ('software-rendering', '/topics/software-rendering'), ('engine', '/topics/engine'), ('rendering', '/topics/rendering'), ('images', '/topics/images'), ('computer-graphics', '/topics/computer-graphics'), ('pixels', '/topics/pixels'), ('rasterizer', '/topics/rasterizer'), ('rendering-engine', '/topics/rendering-engine'), ('rendering-pipeline', '/topics/rendering-pipeline'), ('3d', '/topics/3d'), ('3d-graphics', '/topics/3d-graphics')], timestamp='2024-11-04T13:10:43Z', lang='C++'),\n",
       " Repo(repo_owner='lettier', repo_name='3d-game-shaders-for-beginners', repo_url='/lettier/3d-game-shaders-for-beginners', start=18267, icon='https://repository-images.githubusercontent.com/186309296/7b42c500-324f-11ea-8d76-3db72adb45e8', desc='ðŸŽ® A step-by-step guide to implementing SSAO, depth of field, lighting, normal mapping, and more for your 3D game.', tags=[('gamedev', '/topics/gamedev'), ('webgl', '/topics/webgl'), ('opengl', '/topics/opengl'), ('unity', '/topics/unity'), ('shaders', '/topics/shaders'), ('graphics', '/topics/graphics'), ('vulkan', '/topics/vulkan'), ('game-development', '/topics/game-development'), ('glsl', '/topics/glsl'), ('shader', '/topics/shader'), ('unity3d', '/topics/unity3d'), ('godot', '/topics/godot'), ('graphics-programming', '/topics/graphics-programming'), ('hlsl', '/topics/hlsl'), ('panda3d', '/topics/panda3d'), ('glsl-shader', '/topics/glsl-shader'), ('indiedev', '/topics/indiedev'), ('glsl-shaders', '/topics/glsl-shaders'), ('3d', '/topics/3d'), ('3d-graphics', '/topics/3d-graphics')], timestamp='2023-06-25T21:58:57Z', lang='C++'),\n",
       " Repo(repo_owner='a1studmuffin', repo_name='SpaceshipGenerator', repo_url='/a1studmuffin/SpaceshipGenerator', start=7694, icon=None, desc='A Blender script to procedurally generate 3D spaceships', tags=[('python', '/topics/python'), ('procedural-generation', '/topics/procedural-generation'), ('blender-scripts', '/topics/blender-scripts'), ('game-development', '/topics/game-development'), ('3d', '/topics/3d'), ('spaceship', '/topics/spaceship')], timestamp='2024-05-25T16:11:50Z', lang='Python'),\n",
       " Repo(repo_owner='openscad', repo_name='openscad', repo_url='/openscad/openscad', start=7340, icon=None, desc='OpenSCAD - The Programmers Solid 3D CAD Modeller ', tags=[('windows', '/topics/windows'), ('macos', '/topics/macos'), ('linux', '/topics/linux'), ('c-plus-plus', '/topics/c-plus-plus'), ('opengl', '/topics/opengl'), ('cad', '/topics/cad'), ('qt5', '/topics/qt5'), ('openscad', '/topics/openscad'), ('c-plus-plus-17', '/topics/c-plus-plus-17'), ('3d-printing', '/topics/3d-printing'), ('3d', '/topics/3d'), ('3d-graphics', '/topics/3d-graphics'), ('3d-models', '/topics/3d-models'), ('dxf-files', '/topics/dxf-files'), ('qt6', '/topics/qt6')], timestamp='2025-01-22T04:17:53Z', lang='C++'),\n",
       " Repo(repo_owner='microsoft', repo_name='TRELLIS', repo_url='/microsoft/TRELLIS', start=7160, icon=None, desc='Official repo for paper \"Structured 3D Latents for Scalable and Versatile 3D Generation\".', tags=[('3d', '/topics/3d'), ('3d-generation', '/topics/3d-generation'), ('image-to-3d', '/topics/image-to-3d'), ('text-to-3d', '/topics/text-to-3d'), ('3d-aigc', '/topics/3d-aigc')], timestamp='2024-12-27T12:38:06Z', lang='Python'),\n",
       " Repo(repo_owner='google', repo_name='model-viewer', repo_url='/google/model-viewer', start=7143, icon=None, desc='Easily display interactive 3D models on the web and in AR! ', tags=[('webcomponents', '/topics/webcomponents'), ('augmented-reality', '/topics/augmented-reality'), ('three-js', '/topics/three-js'), ('gltf', '/topics/gltf'), ('glb', '/topics/glb'), ('model-viewer', '/topics/model-viewer'), ('3d', '/topics/3d'), ('3d-models', '/topics/3d-models'), ('webxr', '/topics/webxr'), ('magic-leap', '/topics/magic-leap')], timestamp='2024-12-23T23:28:44Z', lang='TypeScript'),\n",
       " Repo(repo_owner='adrianhajdin', repo_name='project_3D_developer_portfolio', repo_url='/adrianhajdin/project_3D_developer_portfolio', start=6400, icon=None, desc='The most impressive websites in the world use 3D graphics and animations to bring their content to life. Learn how to build your own ThreeJS 3D Developer Portfolio today!', tags=[('threejs', '/topics/threejs'), ('reactjs', '/topics/reactjs'), ('3d', '/topics/3d')], timestamp='2024-10-29T09:21:29Z', lang='JavaScript'),\n",
       " Repo(repo_owner='veloren', repo_name='veloren', repo_url='/veloren/veloren', start=6023, icon='https://repository-images.githubusercontent.com/135222855/c49a8780-ab01-11ea-8b3f-349d94dc6ae4', desc='An open world, open source voxel RPG inspired by Dwarf Fortress and Cube World. This repository is a mirror. Please submit all PRs and issues on our GitLab page.', tags=[('game', '/topics/game'), ('rpg', '/topics/rpg'), ('rust', '/topics/rust'), ('procedural-generation', '/topics/procedural-generation'), ('multiplayer', '/topics/multiplayer'), ('terrain', '/topics/terrain'), ('voxel', '/topics/voxel'), ('gfx-rs', '/topics/gfx-rs'), ('cube', '/topics/cube'), ('3d', '/topics/3d'), ('cubeworld', '/topics/cubeworld')], timestamp='2025-01-23T14:15:20Z', lang='Rust'),\n",
       " Repo(repo_owner='tengbao', repo_name='vanta', repo_url='/tengbao/vanta', start=5802, icon='https://repository-images.githubusercontent.com/97560949/cea8c780-3961-11ea-9e96-a0a505f335fb', desc='Animated 3D backgrounds for your website', tags=[('threejs', '/topics/threejs'), ('animation', '/topics/animation'), ('animations', '/topics/animations'), ('background', '/topics/background'), ('three-js', '/topics/three-js'), ('3d', '/topics/3d')], timestamp='2024-03-03T13:48:00Z', lang='JavaScript'),\n",
       " Repo(repo_owner='spritejs', repo_name='spritejs', repo_url='/spritejs/spritejs', start=5349, icon=None, desc='A cross platform high-performance graphics system.', tags=[('webgl', '/topics/webgl'), ('canvas', '/topics/canvas'), ('rendering', '/topics/rendering'), ('webgl2', '/topics/webgl2'), ('3d', '/topics/3d'), ('2d', '/topics/2d')], timestamp='2024-06-09T14:25:58Z', lang='JavaScript'),\n",
       " Repo(repo_owner='AlmasB', repo_name='FXGL', repo_url='/AlmasB/FXGL', start=4506, icon='https://repository-images.githubusercontent.com/32761091/bee63700-7ac0-11eb-9c2c-336247838d78', desc='Java / JavaFX / Kotlin Game Library (Engine)', tags=[('android', '/topics/android'), ('kotlin', '/topics/kotlin'), ('game', '/topics/game'), ('java', '/topics/java'), ('ios', '/topics/ios'), ('gamedev', '/topics/gamedev'), ('mobile', '/topics/mobile'), ('framework', '/topics/framework'), ('web', '/topics/web'), ('game-engine', '/topics/game-engine'), ('jvm', '/topics/jvm'), ('javafx', '/topics/javafx'), ('game-development', '/topics/game-development'), ('3d', '/topics/3d'), ('2d-framework', '/topics/2d-framework'), ('3d-game-engine', '/topics/3d-game-engine'), ('2d', '/topics/2d'), ('2d-game-engine', '/topics/2d-game-engine'), ('2d-game-framework', '/topics/2d-game-framework'), ('fxgl', '/topics/fxgl')], timestamp='2025-01-16T12:09:14Z', lang='Kotlin'),\n",
       " Repo(repo_owner='galacean', repo_name='engine', repo_url='/galacean/engine', start=4367, icon=None, desc='A typescript interactive engine, support 2D, 3D, animation, physics, built on WebGL and glTF.', tags=[('javascript', '/topics/javascript'), ('webgl', '/topics/webgl'), ('typescript', '/topics/typescript'), ('html5', '/topics/html5'), ('input', '/topics/input'), ('animation', '/topics/animation'), ('graphics', '/topics/graphics'), ('physics', '/topics/physics'), ('webgl2', '/topics/webgl2'), ('3d', '/topics/3d'), ('2d', '/topics/2d'), ('web3d', '/topics/web3d')], timestamp='2025-01-23T11:14:32Z', lang='TypeScript'),\n",
       " Repo(repo_owner='Orillusion', repo_name='orillusion', repo_url='/Orillusion/orillusion', start=4349, icon=None, desc='Orillusion is a pure Web3D rendering engine which is fully developed based on the WebGPU standard.', tags=[('javascript', '/topics/javascript'), ('typescript', '/topics/typescript'), ('html5', '/topics/html5'), ('graphics', '/topics/graphics'), ('3d', '/topics/3d'), ('webgpu', '/topics/webgpu'), ('web3d', '/topics/web3d'), ('wgsl', '/topics/wgsl'), ('orillusion', '/topics/orillusion')], timestamp='2025-01-21T10:41:54Z', lang='TypeScript'),\n",
       " Repo(repo_owner='dotnet', repo_name='Silk.NET', repo_url='/dotnet/Silk.NET', start=4302, icon='https://repository-images.githubusercontent.com/191232240/66227c3c-b2a7-40c9-9573-b0cfaa35d8c8', desc='The high-speed OpenGL, OpenCL, OpenAL, OpenXR, GLFW, SDL, Vulkan, Assimp, WebGPU, and DirectX bindings library your mother warned you about.', tags=[('audio', '/topics/audio'), ('opengl', '/topics/opengl'), ('csharp', '/topics/csharp'), ('native', '/topics/native'), ('graphics', '/topics/graphics'), ('vulkan', '/topics/vulkan'), ('opencl', '/topics/opencl'), ('glfw', '/topics/glfw'), ('game-development', '/topics/game-development'), ('openal', '/topics/openal'), ('scientific-visualization', '/topics/scientific-visualization'), ('silk', '/topics/silk'), ('graphics-library', '/topics/graphics-library'), ('haptics', '/topics/haptics'), ('3d', '/topics/3d'), ('webgpu', '/topics/webgpu'), ('wgpu', '/topics/wgpu')], timestamp='2025-01-22T21:50:55Z', lang='C#'),\n",
       " Repo(repo_owner='troisjs', repo_name='trois', repo_url='/troisjs/trois', start=4295, icon=None, desc='âœ¨ ThreeJS + VueJS 3 + ViteJS âš¡', tags=[('webgl', '/topics/webgl'), ('threejs', '/topics/threejs'), ('vuejs', '/topics/vuejs'), ('three-js', '/topics/three-js'), ('3d', '/topics/3d'), ('vuejs3', '/topics/vuejs3'), ('vitejs', '/topics/vitejs')], timestamp='2023-07-18T13:58:34Z', lang='TypeScript'),\n",
       " Repo(repo_owner='Kavex', repo_name='GameDev-Resources', repo_url='/Kavex/GameDev-Resources', start=4131, icon=None, desc=' ðŸŽ® ðŸŽ² A wonderful list of Game Development resources.', tags=[('game', '/topics/game'), ('gamedev', '/topics/gamedev'), ('game-engine', '/topics/game-engine'), ('engine', '/topics/engine'), ('video-game', '/topics/video-game'), ('game-development', '/topics/game-development'), ('game-jam', '/topics/game-jam'), ('game-2d', '/topics/game-2d'), ('game-programming', '/topics/game-programming'), ('3d', '/topics/3d'), ('2d-framework', '/topics/2d-framework'), ('2d-game', '/topics/2d-game'), ('2d', '/topics/2d'), ('2d-game-engine', '/topics/2d-game-engine'), ('3d-engine', '/topics/3d-engine'), ('3d-game', '/topics/3d-game'), ('2d-game-framework', '/topics/2d-game-framework'), ('game-dev', '/topics/game-dev'), ('making-2d-games', '/topics/making-2d-games'), ('game-source', '/topics/game-source')], timestamp='2024-09-25T22:59:12Z', lang=None),\n",
       " Repo(repo_owner='antvis', repo_name='L7', repo_url='/antvis/L7', start=3720, icon=None, desc='ðŸŒŽ Large-scale WebGL-powered Geospatial Data Visualization analysis engine.', tags=[('javascript', '/topics/javascript'), ('map', '/topics/map'), ('webgl', '/topics/webgl'), ('geojson', '/topics/geojson'), ('maps', '/topics/maps'), ('geospatial', '/topics/geospatial'), ('gis', '/topics/gis'), ('data-visualization', '/topics/data-visualization'), ('polygon', '/topics/polygon'), ('point', '/topics/point'), ('mapbox', '/topics/mapbox'), ('3d', '/topics/3d'), ('amap', '/topics/amap'), ('antv', '/topics/antv')], timestamp='2025-01-09T15:00:16Z', lang='TypeScript'),\n",
       " Repo(repo_owner='cleardusk', repo_name='3DDFA', repo_url='/cleardusk/3DDFA', start=3623, icon=None, desc='The PyTorch improved version of TPAMI 2017 paper: Face Alignment in Full Pose Range: A 3D Total Solution.', tags=[('python', '/topics/python'), ('computer-vision', '/topics/computer-vision'), ('deep-learning', '/topics/deep-learning'), ('pytorch', '/topics/pytorch'), ('3d', '/topics/3d'), ('3d-face', '/topics/3d-face'), ('face-alignment', '/topics/face-alignment'), ('3dmm', '/topics/3dmm')], timestamp='2022-05-14T12:12:21Z', lang='Python'),\n",
       " Repo(repo_owner='hexops', repo_name='mach', repo_url='/hexops/mach', start=3607, icon='https://repository-images.githubusercontent.com/382912430/9580cf73-ea9a-4237-8477-19701af2122d', desc='zig game engine & graphics toolkit', tags=[('open-source', '/topics/open-source'), ('gamedev', '/topics/gamedev'), ('gui', '/topics/gui'), ('cross-platform', '/topics/cross-platform'), ('game-engine', '/topics/game-engine'), ('graphics', '/topics/graphics'), ('zig', '/topics/zig'), ('game-development', '/topics/game-development'), ('webassembly', '/topics/webassembly'), ('ecs', '/topics/ecs'), ('entity-component-system', '/topics/entity-component-system'), ('composable', '/topics/composable'), ('3d', '/topics/3d'), ('2d', '/topics/2d'), ('webgpu', '/topics/webgpu'), ('ziglang', '/topics/ziglang'), ('steam-deck', '/topics/steam-deck')], timestamp='2025-01-19T20:37:48Z', lang='Zig'),\n",
       " Repo(repo_owner='JannisX11', repo_name='blockbench', repo_url='/JannisX11/blockbench', start=3557, icon='https://repository-images.githubusercontent.com/93747383/44c9efb5-4899-4048-851a-eb19aace86f0', desc='Blockbench - A low poly 3D model editor', tags=[('electron', '/topics/electron'), ('minecraft', '/topics/minecraft'), ('pixel-art', '/topics/pixel-art'), ('3d', '/topics/3d'), ('low-poly', '/topics/low-poly'), ('blockbench', '/topics/blockbench'), ('hytale', '/topics/hytale')], timestamp='2025-01-21T19:30:35Z', lang='JavaScript'),\n",
       " Repo(repo_owner='jasonlong', repo_name='isometric-contributions', repo_url='/jasonlong/isometric-contributions', start=3514, icon='https://repository-images.githubusercontent.com/18154829/019f9880-c2bf-11ea-91a6-706e09bd7f10', desc='Browser extension for rendering an isometric pixel art version of your GitHub contribution graph.', tags=[('github', '/topics/github'), ('css', '/topics/css'), ('contributions', '/topics/contributions'), ('extension', '/topics/extension'), ('isometric', '/topics/isometric'), ('3d', '/topics/3d'), ('obelisk', '/topics/obelisk')], timestamp='2024-12-23T17:38:53Z', lang='JavaScript'),\n",
       " Repo(repo_owner='tinyobjloader', repo_name='tinyobjloader', repo_url='/tinyobjloader/tinyobjloader', start=3401, icon=None, desc='Tiny but powerful single file wavefront obj loader', tags=[('c-plus-plus', '/topics/c-plus-plus'), ('cpp', '/topics/cpp'), ('loader', '/topics/loader'), ('wavefront', '/topics/wavefront'), ('3d', '/topics/3d')], timestamp='2024-11-23T22:21:10Z', lang='C++'),\n",
       " Repo(repo_owner='armory3d', repo_name='armortools', repo_url='/armory3d/armortools', start=3385, icon=None, desc='3D Content Creation Tools', tags=[('tool', '/topics/tool'), ('painting', '/topics/painting'), ('3d', '/topics/3d'), ('texturing', '/topics/texturing'), ('armorpaint', '/topics/armorpaint'), ('armorlab', '/topics/armorlab')], timestamp='2025-01-20T22:20:15Z', lang='C++'),\n",
       " Repo(repo_owner='CadQuery', repo_name='cadquery', repo_url='/CadQuery/cadquery', start=3379, icon=None, desc='A python parametric CAD scripting framework based on OCCT', tags=[('python', '/topics/python'), ('modeling', '/topics/modeling'), ('stl', '/topics/stl'), ('cad', '/topics/cad'), ('dxf', '/topics/dxf'), ('parametric', '/topics/parametric'), ('3d', '/topics/3d'), ('opencascade', '/topics/opencascade'), ('step', '/topics/step'), ('brep', '/topics/brep'), ('occt', '/topics/occt')], timestamp='2025-01-23T13:48:55Z', lang='Python'),\n",
       " Repo(repo_owner='f3d-app', repo_name='f3d', repo_url='/f3d-app/f3d', start=3103, icon='https://repository-images.githubusercontent.com/241178673/63e48b80-cc25-11ea-8f2e-19543d1f0221', desc='Fast and minimalist 3D viewer.', tags=[('graphics', '/topics/graphics'), ('rendering', '/topics/rendering'), ('obj', '/topics/obj'), ('raytracing', '/topics/raytracing'), ('vtk', '/topics/vtk'), ('command-line-tool', '/topics/command-line-tool'), ('volume-rendering', '/topics/volume-rendering'), ('dxf', '/topics/dxf'), ('gltf', '/topics/gltf'), ('glb', '/topics/glb'), ('3d', '/topics/3d'), ('usd', '/topics/usd'), ('fbx', '/topics/fbx'), ('3d-graphics', '/topics/3d-graphics'), ('step', '/topics/step'), ('physically-based-rendering', '/topics/physically-based-rendering'), ('stl-viewer', '/topics/stl-viewer'), ('3d-viewer', '/topics/3d-viewer'), ('gltf-viewer', '/topics/gltf-viewer')], timestamp='2025-01-23T06:58:54Z', lang='C++'),\n",
       " Repo(repo_owner='armory3d', repo_name='armory', repo_url='/armory3d/armory', start=3097, icon=None, desc='3D Engine with Blender Integration', tags=[('game-engine', '/topics/game-engine'), ('blender', '/topics/blender'), ('rendering', '/topics/rendering'), ('haxe', '/topics/haxe'), ('3d', '/topics/3d')], timestamp='2025-01-08T20:12:25Z', lang='Python'),\n",
       " Repo(repo_owner='huxingyi', repo_name='dust3d', repo_url='/huxingyi/dust3d', start=3008, icon='https://repository-images.githubusercontent.com/76565839/018d8937-8f6d-4785-80fb-6930c5175b04', desc='Dust3D is a cross-platform 3D modeling software that makes it easy to create low poly 3D models for video games, 3D printing, and more.', tags=[('game-development', '/topics/game-development'), ('3d-printing', '/topics/3d-printing'), ('3d', '/topics/3d'), ('3d-modelling', '/topics/3d-modelling'), ('low-poly', '/topics/low-poly'), ('dust3d', '/topics/dust3d')], timestamp='2024-12-21T00:01:15Z', lang='C++'),\n",
       " Repo(repo_owner='cleardusk', repo_name='3DDFA_V2', repo_url='/cleardusk/3DDFA_V2', start=2945, icon=None, desc='The official PyTorch implementation of Towards Fast, Accurate and Stable 3D Dense Face Alignment, ECCV 2020.', tags=[('computer-vision', '/topics/computer-vision'), ('pytorch', '/topics/pytorch'), ('alignment', '/topics/alignment'), ('3d', '/topics/3d'), ('3d-face', '/topics/3d-face'), ('face-alignment', '/topics/face-alignment'), ('3dmm', '/topics/3dmm'), ('3d-face-alignment', '/topics/3d-face-alignment'), ('eccv', '/topics/eccv'), ('onnx', '/topics/onnx'), ('3d-landmarks', '/topics/3d-landmarks'), ('eccv-2020', '/topics/eccv-2020'), ('single-image-reconstruction', '/topics/single-image-reconstruction')], timestamp='2024-02-02T06:54:17Z', lang='Python'),\n",
       " Repo(repo_owner='pyvista', repo_name='pyvista', repo_url='/pyvista/pyvista', start=2893, icon='https://repository-images.githubusercontent.com/92974124/479bf380-09b7-11eb-91f9-fdd76e4c82a5', desc='3D plotting and mesh analysis through a streamlined interface for the Visualization Toolkit (VTK)', tags=[('visualization', '/topics/visualization'), ('python', '/topics/python'), ('open-science', '/topics/open-science'), ('scientific-visualization', '/topics/scientific-visualization'), ('mesh', '/topics/mesh'), ('meshviewer', '/topics/meshviewer'), ('plotting', '/topics/plotting'), ('fem', '/topics/fem'), ('vtk', '/topics/vtk'), ('finite-elements', '/topics/finite-elements'), ('finite-element-analysis', '/topics/finite-element-analysis'), ('hacktoberfest', '/topics/hacktoberfest'), ('3d', '/topics/3d'), ('mesh-processing', '/topics/mesh-processing'), ('scientific-research', '/topics/scientific-research')], timestamp='2025-01-23T13:54:41Z', lang='Python'),\n",
       " Repo(repo_owner='hlorus', repo_name='CAD_Sketcher', repo_url='/hlorus/CAD_Sketcher', start=2820, icon='https://repository-images.githubusercontent.com/390692642/aa01e9db-6cb8-4789-b3ba-ed9c0a3f2200', desc='Constraint-based geometry sketcher for blender', tags=[('blender', '/topics/blender'), ('geometry', '/topics/geometry'), ('modeling', '/topics/modeling'), ('3d', '/topics/3d')], timestamp='2024-12-26T15:52:30Z', lang='Python'),\n",
       " Repo(repo_owner='DavidHDev', repo_name='react-bits', repo_url='/DavidHDev/react-bits', start=2818, icon=None, desc='An open source collection of animated, interactive & fully customizable React components for building stunning, memorable user interfaces.', tags=[('react', '/topics/react'), ('javascript', '/topics/javascript'), ('components', '/topics/components'), ('web', '/topics/web'), ('reactjs', '/topics/reactjs'), ('css-animations', '/topics/css-animations'), ('animations', '/topics/animations'), ('component-library', '/topics/component-library'), ('ui-components', '/topics/ui-components'), ('3d', '/topics/3d'), ('ui-library', '/topics/ui-library'), ('tailwind', '/topics/tailwind'), ('tailwindcss', '/topics/tailwindcss'), ('components-react', '/topics/components-react'), ('components-library', '/topics/components-library')], timestamp='2025-01-23T10:01:17Z', lang='JavaScript'),\n",
       " Repo(repo_owner='pissang', repo_name='claygl', repo_url='/pissang/claygl', start=2814, icon=None, desc='A WebGL graphic library for building scalable Web3D applications', tags=[('visualization', '/topics/visualization'), ('webgl', '/topics/webgl'), ('gltf', '/topics/gltf'), ('3d', '/topics/3d')], timestamp='2024-11-19T06:52:12Z', lang='JavaScript'),\n",
       " Repo(repo_owner='jeeliz', repo_name='jeelizFaceFilter', repo_url='/jeeliz/jeelizFaceFilter', start=2723, icon=None, desc='Javascript/WebGL lightweight face tracking library designed for augmented reality webcam filters. Features : multiple faces detection, rotation, mouth opening. Various integration examples are provided (Three.js, Babylon.js, FaceSwap, Canvas2D, CSS3D...). ', tags=[('javascript', '/topics/javascript'), ('lightweight', '/topics/lightweight'), ('tracking', '/topics/tracking'), ('webgl', '/topics/webgl'), ('threejs', '/topics/threejs'), ('snapchat', '/topics/snapchat'), ('deep-learning', '/topics/deep-learning'), ('camera', '/topics/camera'), ('augmented-reality', '/topics/augmented-reality'), ('detection', '/topics/detection'), ('faceswap', '/topics/faceswap'), ('face', '/topics/face'), ('face-detection', '/topics/face-detection'), ('3d', '/topics/3d'), ('face-tracking', '/topics/face-tracking'), ('webar', '/topics/webar'), ('multiple-faces', '/topics/multiple-faces'), ('face-filters', '/topics/face-filters'), ('face-detect', '/topics/face-detect')], timestamp='2024-09-04T17:30:29Z', lang='JavaScript'),\n",
       " Repo(repo_owner='Tencent', repo_name='Hunyuan3D-2', repo_url='/Tencent/Hunyuan3D-2', start=2133, icon=None, desc='High-Resolution 3D Assets Generation with Large Scale Hunyuan3D Diffusion Models.', tags=[('shape', '/topics/shape'), ('3d', '/topics/3d'), ('texture-generation', '/topics/texture-generation'), ('3d-generation', '/topics/3d-generation'), ('shape-generation', '/topics/shape-generation'), ('diffusion-models', '/topics/diffusion-models'), ('image-to-3d', '/topics/image-to-3d'), ('text-to-3d', '/topics/text-to-3d'), ('3d-aigc', '/topics/3d-aigc'), ('hunyuan3d', '/topics/hunyuan3d')], timestamp='2025-01-23T09:50:41Z', lang='Python'),\n",
       " Repo(repo_owner='ekzhang', repo_name='graphics-workshop', repo_url='/ekzhang/graphics-workshop', start=2113, icon='https://repository-images.githubusercontent.com/357272199/07b42f80-9d91-11eb-9ba5-e58351929fdf', desc='Learn computer graphics by writing GPU shaders!', tags=[('javascript', '/topics/javascript'), ('webgl', '/topics/webgl'), ('shaders', '/topics/shaders'), ('graphics', '/topics/graphics'), ('glsl', '/topics/glsl'), ('raytracing', '/topics/raytracing'), ('3d', '/topics/3d'), ('2d', '/topics/2d'), ('rasterization', '/topics/rasterization')], timestamp='2021-10-25T00:27:27Z', lang='GLSL'),\n",
       " Repo(repo_owner='strasdat', repo_name='Sophus', repo_url='/strasdat/Sophus', start=2111, icon=None, desc='C++ implementation of Lie Groups using Eigen.', tags=[('python', '/topics/python'), ('c-plus-plus', '/topics/c-plus-plus'), ('computer-vision', '/topics/computer-vision'), ('math', '/topics/math'), ('robotics', '/topics/robotics'), ('geometry', '/topics/geometry'), ('graphics', '/topics/graphics'), ('3d', '/topics/3d'), ('2d', '/topics/2d')], timestamp='2024-07-06T18:06:55Z', lang='C++'),\n",
       " Repo(repo_owner='buaacyw', repo_name='MeshAnything', repo_url='/buaacyw/MeshAnything', start=2090, icon=None, desc='From anything to mesh like human artists. Official impl. of \"MeshAnything: Artist-Created Mesh Generation with Autoregressive Transformers\"', tags=[('transformers', '/topics/transformers'), ('point-cloud', '/topics/point-cloud'), ('mesh', '/topics/mesh'), ('generative-model', '/topics/generative-model'), ('mesh-generation', '/topics/mesh-generation'), ('auto-regressive-model', '/topics/auto-regressive-model'), ('3d', '/topics/3d'), ('large-language-models', '/topics/large-language-models'), ('generative-ai', '/topics/generative-ai')], timestamp='2024-08-05T17:08:25Z', lang='Python'),\n",
       " Repo(repo_owner='marcomusy', repo_name='vedo', repo_url='/marcomusy/vedo', start=2075, icon=None, desc='A python module for scientific analysis of 3D data based on VTK and Numpy', tags=[('visualization', '/topics/visualization'), ('python', '/topics/python'), ('numpy', '/topics/numpy'), ('scientific-visualization', '/topics/scientific-visualization'), ('mesh', '/topics/mesh'), ('simulations', '/topics/simulations'), ('vtk', '/topics/vtk'), ('finite-elements', '/topics/finite-elements'), ('3d', '/topics/3d'), ('3d-graphics', '/topics/3d-graphics'), ('scientific-research', '/topics/scientific-research')], timestamp='2025-01-21T19:10:23Z', lang='Python'),\n",
       " Repo(repo_owner='fogleman', repo_name='sdf', repo_url='/fogleman/sdf', start=1644, icon=None, desc='Simple SDF mesh generation in Python', tags=[('python', '/topics/python'), ('mesh', '/topics/mesh'), ('sdf', '/topics/sdf'), ('signed-distance-functions', '/topics/signed-distance-functions'), ('3d-printing', '/topics/3d-printing'), ('3d', '/topics/3d'), ('3d-models', '/topics/3d-models')], timestamp='2024-08-10T20:40:33Z', lang='Python'),\n",
       " Repo(repo_owner='ranahanocka', repo_name='MeshCNN', repo_url='/ranahanocka/MeshCNN', start=1621, icon='https://repository-images.githubusercontent.com/185282401/25601800-7449-11e9-9180-59b1c6160508', desc='Convolutional Neural Network for 3D meshes in PyTorch', tags=[('machine-learning', '/topics/machine-learning'), ('computer-graphics', '/topics/computer-graphics'), ('pytorch', '/topics/pytorch'), ('mesh', '/topics/mesh'), ('segmentation', '/topics/segmentation'), ('convolutional-neural-networks', '/topics/convolutional-neural-networks'), ('3d', '/topics/3d'), ('geometric-deep-learning', '/topics/geometric-deep-learning')], timestamp='2024-02-07T16:41:36Z', lang='Python'),\n",
       " Repo(repo_owner='One-2-3-45', repo_name='One-2-3-45', repo_url='/One-2-3-45/One-2-3-45', start=1607, icon=None, desc='[NeurIPS 2023] Official code of \"One-2-3-45: Any Single Image to 3D Mesh in 45 Seconds without Per-Shape Optimization\"', tags=[('mesh-generation', '/topics/mesh-generation'), ('nerf', '/topics/nerf'), ('3d', '/topics/3d'), ('3d-generation', '/topics/3d-generation'), ('aigc', '/topics/aigc'), ('multi-view-reconstruction', '/topics/multi-view-reconstruction'), ('generalizable-nerf', '/topics/generalizable-nerf'), ('3d-shape-generation', '/topics/3d-shape-generation')], timestamp='2024-04-20T23:15:25Z', lang='Python'),\n",
       " Repo(repo_owner='charlesq34', repo_name='frustum-pointnets', repo_url='/charlesq34/frustum-pointnets', start=1601, icon=None, desc='Frustum PointNets for 3D Object Detection from RGB-D Data', tags=[('deep-learning', '/topics/deep-learning'), ('robotics', '/topics/robotics'), ('point-cloud', '/topics/point-cloud'), ('object-detection', '/topics/object-detection'), ('3d', '/topics/3d')], timestamp='2020-03-24T20:42:38Z', lang='Python'),\n",
       " Repo(repo_owner='Anything-of-anything', repo_name='Anything-3D', repo_url='/Anything-of-anything/Anything-3D', start=1575, icon=None, desc=\"Segment-Anything + 3D. Let's lift anything to 3D.\", tags=[('segment', '/topics/segment'), ('computer-vision', '/topics/computer-vision'), ('reconstruction', '/topics/reconstruction'), ('3d', '/topics/3d'), ('segment-anything', '/topics/segment-anything')], timestamp='2023-06-12T09:40:03Z', lang='Python'),\n",
       " Repo(repo_owner='Open-Cascade-SAS', repo_name='OCCT', repo_url='/Open-Cascade-SAS/OCCT', start=1328, icon='https://repository-images.githubusercontent.com/247737613/b4479692-3092-43db-b795-bea039728c04', desc='Open CASCADE Technology (OCCT) is an open-source software development platform for 3D CAD, CAM, CAE.', tags=[('cad', '/topics/cad'), ('cam', '/topics/cam'), ('3d', '/topics/3d'), ('cae', '/topics/cae'), ('opencascade', '/topics/opencascade'), ('occt', '/topics/occt'), ('3d-cad', '/topics/3d-cad'), ('occt3d', '/topics/occt3d')], timestamp='2025-01-23T00:25:08Z', lang='C++'),\n",
       " Repo(repo_owner='drwhut', repo_name='tabletop-club', repo_url='/drwhut/tabletop-club', start=1317, icon='https://repository-images.githubusercontent.com/275376397/6d84ce51-f669-49ce-b8d3-5e70e316eb94', desc='An open-source platform for playing tabletop games in a physics-based 3D environment for Windows, macOS, and Linux! Made with the Godot Engine.', tags=[('game', '/topics/game'), ('multiplayer', '/topics/multiplayer'), ('physics', '/topics/physics'), ('tabletop-gaming', '/topics/tabletop-gaming'), ('tabletop-simulator', '/topics/tabletop-simulator'), ('godot-engine', '/topics/godot-engine'), ('tabletop', '/topics/tabletop'), ('3d', '/topics/3d'), ('singleplayer', '/topics/singleplayer'), ('tabletop-games', '/topics/tabletop-games')], timestamp='2025-01-11T10:15:39Z', lang='GDScript'),\n",
       " Repo(repo_owner='rswinkle', repo_name='PortableGL', repo_url='/rswinkle/PortableGL', start=1062, icon=None, desc='An implementation of OpenGL 3.x-ish in clean C', tags=[('tutorial', '/topics/tutorial'), ('opengl', '/topics/opengl'), ('shaders', '/topics/shaders'), ('graphics', '/topics/graphics'), ('software-rendering', '/topics/software-rendering'), ('rendering', '/topics/rendering'), ('computer-graphics', '/topics/computer-graphics'), ('shader', '/topics/shader'), ('rasterizer', '/topics/rasterizer'), ('renderer', '/topics/renderer'), ('rendering-pipeline', '/topics/rendering-pipeline'), ('3d', '/topics/3d'), ('3d-graphics', '/topics/3d-graphics'), ('rasterization', '/topics/rasterization'), ('software-renderer', '/topics/software-renderer'), ('single-header-library', '/topics/single-header-library')], timestamp='2024-06-22T20:26:17Z', lang='C'),\n",
       " Repo(repo_owner='kzampog', repo_name='cilantro', repo_url='/kzampog/cilantro', start=1059, icon=None, desc='A lean C++ library for working with point cloud data', tags=[('clustering', '/topics/clustering'), ('point-cloud', '/topics/point-cloud'), ('registration', '/topics/registration'), ('pca', '/topics/pca'), ('segmentation', '/topics/segmentation'), ('convex-hull', '/topics/convex-hull'), ('k-means', '/topics/k-means'), ('reconstruction', '/topics/reconstruction'), ('mds', '/topics/mds'), ('ransac', '/topics/ransac'), ('rgbd', '/topics/rgbd'), ('3d', '/topics/3d'), ('3d-visualization', '/topics/3d-visualization'), ('icp', '/topics/icp'), ('spectral-clustering', '/topics/spectral-clustering'), ('convex', '/topics/convex'), ('mean-shift', '/topics/mean-shift'), ('model-fitting', '/topics/model-fitting'), ('iterative-closest-point', '/topics/iterative-closest-point'), ('non-rigid-registration', '/topics/non-rigid-registration')], timestamp='2023-08-15T21:31:49Z', lang='C++'),\n",
       " Repo(repo_owner='openlayers', repo_name='ol-cesium', repo_url='/openlayers/ol-cesium', start=1034, icon=None, desc='OpenLayers - Cesium integration', tags=[('openlayers', '/topics/openlayers'), ('cesium', '/topics/cesium'), ('3d', '/topics/3d')], timestamp='2025-01-20T17:33:22Z', lang='TypeScript'),\n",
       " Repo(repo_owner='aurora-opensource', repo_name='xviz', repo_url='/aurora-opensource/xviz', start=1029, icon=None, desc='A protocol for real-time transfer and visualization of autonomy data', tags=[('robotics', '/topics/robotics'), ('protocol', '/topics/protocol'), ('self-driving-car', '/topics/self-driving-car'), ('3d', '/topics/3d')], timestamp='2024-07-05T18:03:23Z', lang='JavaScript'),\n",
       " Repo(repo_owner='ashtuchkin', repo_name='vive-diy-position-sensor', repo_url='/ashtuchkin/vive-diy-position-sensor', start=924, icon=None, desc=\"Code & schematics for position tracking sensor using HTC Vive's Lighthouse system and a Teensy board.\", tags=[('htc-vive', '/topics/htc-vive'), ('positioning', '/topics/positioning'), ('3d', '/topics/3d'), ('lighthouse', '/topics/lighthouse'), ('position-tracker', '/topics/position-tracker'), ('htc-vive-lighthouse', '/topics/htc-vive-lighthouse')], timestamp='2021-06-24T05:08:19Z', lang='C++'),\n",
       " Repo(repo_owner='3d-morphable-models', repo_name='curated-list-of-awesome-3D-Morphable-Model-software-and-data', repo_url='/3d-morphable-models/curated-list-of-awesome-3D-Morphable-Model-software-and-data', start=917, icon=None, desc='The idea of this list is to collect shared data and algorithms around 3D Morphable Models. You are invited to contribute to this list by adding a pull request. The original list arised from the Dagstuhl seminar on 3D Morphable Models https://www.dagstuhl.de/19102 in March 2019.', tags=[('machine-learning', '/topics/machine-learning'), ('computer-vision', '/topics/computer-vision'), ('shape', '/topics/shape'), ('image-processing', '/topics/image-processing'), ('generative-model', '/topics/generative-model'), ('face-recognition', '/topics/face-recognition'), ('face-detection', '/topics/face-detection'), ('faces', '/topics/faces'), ('3d', '/topics/3d'), ('3d-reconstruction', '/topics/3d-reconstruction'), ('3d-graphics', '/topics/3d-graphics'), ('3d-models', '/topics/3d-models'), ('morphable-model', '/topics/morphable-model'), ('analysis-by-synthesis', '/topics/analysis-by-synthesis')], timestamp='2022-08-02T07:52:23Z', lang=None),\n",
       " Repo(repo_owner='Jumpat', repo_name='SegmentAnythingin3D', repo_url='/Jumpat/SegmentAnythingin3D', start=910, icon=None, desc='Segment Anything in 3D with NeRFs (NeurIPS 2023)', tags=[('computer-vision', '/topics/computer-vision'), ('deep-learning', '/topics/deep-learning'), ('segmentation', '/topics/segmentation'), ('nerf', '/topics/nerf'), ('3d', '/topics/3d'), ('3d-segmentation', '/topics/3d-segmentation'), ('segment-anything', '/topics/segment-anything')], timestamp='2024-06-12T08:45:19Z', lang='Python'),\n",
       " Repo(repo_owner='NASAWorldWind', repo_name='WebWorldWind', repo_url='/NASAWorldWind/WebWorldWind', start=907, icon=None, desc='The NASA WorldWind Javascript SDK (WebWW) includes the library and examples for creating geo-browser web applications and for embedding a 3D globe in HTML5 web pages.', tags=[('javascript', '/topics/javascript'), ('webgl', '/topics/webgl'), ('browser', '/topics/browser'), ('sdk', '/topics/sdk'), ('html5', '/topics/html5'), ('nasa', '/topics/nasa'), ('terrain', '/topics/terrain'), ('geospatial', '/topics/geospatial'), ('earth', '/topics/earth'), ('globe', '/topics/globe'), ('imagery', '/topics/imagery'), ('3d', '/topics/3d'), ('worldwind', '/topics/worldwind')], timestamp='2024-02-27T17:44:02Z', lang='JavaScript'),\n",
       " Repo(repo_owner='google', repo_name='hypernerf', repo_url='/google/hypernerf', start=906, icon=None, desc='Code for \"HyperNeRF: A Higher-Dimensional Representation for Topologically Varying Neural Radiance Fields\".', tags=[('machine-learning', '/topics/machine-learning'), ('neural-network', '/topics/neural-network'), ('nerf', '/topics/nerf'), ('3d', '/topics/3d'), ('novel-view-synthesis', '/topics/novel-view-synthesis'), ('neural-rendering', '/topics/neural-rendering')], timestamp='2024-05-03T20:24:40Z', lang='Python'),\n",
       " Repo(repo_owner='lume', repo_name='glas', repo_url='/lume/glas', start=892, icon='https://repository-images.githubusercontent.com/188780913/7998c200-22a3-11eb-9d8e-3cc904a01984', desc='WebGL in WebAssembly with AssemblyScript', tags=[('gamedev', '/topics/gamedev'), ('webgl', '/topics/webgl'), ('threejs', '/topics/threejs'), ('games', '/topics/games'), ('typescript', '/topics/typescript'), ('game-engine', '/topics/game-engine'), ('creative-coding', '/topics/creative-coding'), ('game-development', '/topics/game-development'), ('webassembly', '/topics/webassembly'), ('wasm', '/topics/wasm'), ('three-js', '/topics/three-js'), ('glas', '/topics/glas'), ('3d', '/topics/3d'), ('3d-game-engine', '/topics/3d-game-engine'), ('3d-graphics', '/topics/3d-graphics'), ('3d-engine', '/topics/3d-engine'), ('three', '/topics/three'), ('game-dev', '/topics/game-dev'), ('assemblyscript', '/topics/assemblyscript'), ('lume', '/topics/lume')], timestamp='2024-08-30T19:02:43Z', lang='TypeScript'),\n",
       " Repo(repo_owner='PardCode', repo_name='CPP-3D-Game-Tutorial-Series', repo_url='/PardCode/CPP-3D-Game-Tutorial-Series', start=892, icon=None, desc='C++ 3D Game Tutorial Series (DirectX) - Learn to code a DirectX 3D Game in C++ from scratch', tags=[('game', '/topics/game'), ('gamedev', '/topics/gamedev'), ('graphics-engine', '/topics/graphics-engine'), ('game-engine', '/topics/game-engine'), ('cpp', '/topics/cpp'), ('graphics', '/topics/graphics'), ('directx', '/topics/directx'), ('game-development', '/topics/game-development'), ('cpp11', '/topics/cpp11'), ('graphics-programming', '/topics/graphics-programming'), ('d3d11', '/topics/d3d11'), ('direct3d', '/topics/direct3d'), ('3d', '/topics/3d'), ('3d-graphics', '/topics/3d-graphics'), ('3d-graphics-engine', '/topics/3d-graphics-engine'), ('3d-game', '/topics/3d-game'), ('directx-11', '/topics/directx-11'), ('directx11', '/topics/directx11'), ('direct3d11', '/topics/direct3d11'), ('directx-3d', '/topics/directx-3d')], timestamp='2024-04-27T13:03:10Z', lang='C++'),\n",
       " Repo(repo_owner='SceneView', repo_name='sceneview-android', repo_url='/SceneView/sceneview-android', start=879, icon=None, desc='SceneView is a 3D and AR Android Composable and View with Google Filament and ARCore. This is a Sceneform replacement in Kotlin', tags=[('android', '/topics/android'), ('augmented-reality', '/topics/augmented-reality'), ('3d', '/topics/3d'), ('filament', '/topics/filament'), ('arcore', '/topics/arcore')], timestamp='2025-01-08T12:16:28Z', lang='Kotlin'),\n",
       " Repo(repo_owner='twpayne', repo_name='go-geom', repo_url='/twpayne/go-geom', start=877, icon=None, desc='Package geom implements efficient geometry types for geospatial applications.', tags=[('go', '/topics/go'), ('golang', '/topics/golang'), ('encoding', '/topics/encoding'), ('geojson', '/topics/geojson'), ('geo', '/topics/geo'), ('geospatial', '/topics/geospatial'), ('gis', '/topics/gis'), ('decoding', '/topics/decoding'), ('wkb', '/topics/wkb'), ('kml', '/topics/kml'), ('wkt', '/topics/wkt'), ('3d', '/topics/3d'), ('2d', '/topics/2d'), ('geom', '/topics/geom'), ('geometry-functions', '/topics/geometry-functions'), ('ewkb', '/topics/ewkb')], timestamp='2025-01-16T14:14:18Z', lang='Go'),\n",
       " Repo(repo_owner='fogleman', repo_name='fauxgl', repo_url='/fogleman/fauxgl', start=875, icon=None, desc='Software-only 3D renderer written in Go.', tags=[('go', '/topics/go'), ('opengl', '/topics/opengl'), ('graphics', '/topics/graphics'), ('rendering', '/topics/rendering'), ('3d', '/topics/3d')], timestamp='2025-01-19T17:20:38Z', lang='Go'),\n",
       " Repo(repo_owner='neka-nat', repo_name='probreg', repo_url='/neka-nat/probreg', start=872, icon=None, desc='Python package for point cloud registration using probabilistic model (Coherent Point Drift, GMMReg, SVR, GMMTree, FilterReg, Bayesian CPD)', tags=[('point-cloud', '/topics/point-cloud'), ('registration', '/topics/registration'), ('gaussian-mixture-models', '/topics/gaussian-mixture-models'), ('expectation-maximization-algorithm', '/topics/expectation-maximization-algorithm'), ('variational-inference', '/topics/variational-inference'), ('3d', '/topics/3d'), ('dual-quaternion', '/topics/dual-quaternion'), ('point-cloud-registration', '/topics/point-cloud-registration'), ('open3d', '/topics/open3d'), ('coherent-point-drift', '/topics/coherent-point-drift'), ('non-rigid-registration', '/topics/non-rigid-registration'), ('rigid-transformations', '/topics/rigid-transformations'), ('filterreg', '/topics/filterreg'), ('dual-quaternion-skinning', '/topics/dual-quaternion-skinning')], timestamp='2024-05-11T06:44:00Z', lang='Python'),\n",
       " Repo(repo_owner='city-super', repo_name='Scaffold-GS', repo_url='/city-super/Scaffold-GS', start=867, icon=None, desc='[CVPR 2024 Highlight] Scaffold-GS: Structured 3D Gaussians for View-Adaptive Rendering', tags=[('rendering', '/topics/rendering'), ('reconstruction', '/topics/reconstruction'), ('3d', '/topics/3d'), ('gaussian-splatting', '/topics/gaussian-splatting'), ('cvpr2024', '/topics/cvpr2024')], timestamp='2024-09-26T03:17:34Z', lang='C++'),\n",
       " Repo(repo_owner='captainwz', repo_name='svg-3d-builder', repo_url='/captainwz/svg-3d-builder', start=864, icon=None, desc='an elaborate tool to create 3d model with svg', tags=[('svg', '/topics/svg'), ('3d', '/topics/3d'), ('3d-model', '/topics/3d-model')], timestamp='2018-12-31T03:08:27Z', lang='JavaScript'),\n",
       " Repo(repo_owner='andyzeng', repo_name='3dmatch-toolbox', repo_url='/andyzeng/3dmatch-toolbox', start=854, icon=None, desc='3DMatch - a 3D ConvNet-based local geometric descriptor for aligning 3D meshes and point clouds.', tags=[('computer-vision', '/topics/computer-vision'), ('deep-learning', '/topics/deep-learning'), ('point-cloud', '/topics/point-cloud'), ('artificial-intelligence', '/topics/artificial-intelligence'), ('vision', '/topics/vision'), ('geometry-processing', '/topics/geometry-processing'), ('rgbd', '/topics/rgbd'), ('3d', '/topics/3d'), ('3d-deep-learning', '/topics/3d-deep-learning'), ('3dmatch', '/topics/3dmatch')], timestamp='2024-01-06T20:44:26Z', lang='C++'),\n",
       " Repo(repo_owner='trytriplex', repo_name='triplex', repo_url='/trytriplex/triplex', start=847, icon=None, desc='The visual IDE for React/Three Fiber.', tags=[('react', '/topics/react'), ('editor', '/topics/editor'), ('threejs', '/topics/threejs'), ('web', '/topics/web'), ('3d', '/topics/3d'), ('react-three-fiber', '/topics/react-three-fiber')], timestamp='2025-01-23T11:37:35Z', lang='TypeScript')]"
      ]
     },
     "execution_count": 317,
     "metadata": {},
     "output_type": "execute_result"
    }
   ],
   "source": [
    "[vv for v in repos['3D'] for vv in v]"
   ]
  }
 ],
 "metadata": {
  "kernelspec": {
   "display_name": "Python 3",
   "language": "python",
   "name": "python3"
  },
  "language_info": {
   "codemirror_mode": {
    "name": "ipython",
    "version": 3
   },
   "file_extension": ".py",
   "mimetype": "text/x-python",
   "name": "python",
   "nbconvert_exporter": "python",
   "pygments_lexer": "ipython3",
   "version": "3.10.6"
  }
 },
 "nbformat": 4,
 "nbformat_minor": 2
}
